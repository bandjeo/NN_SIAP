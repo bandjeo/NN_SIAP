{
 "cells": [
  {
   "cell_type": "code",
   "execution_count": 1,
   "id": "forty-zoning",
   "metadata": {},
   "outputs": [],
   "source": [
    "import json\n",
    "import random\n",
    "import matplotlib.pyplot as plt"
   ]
  },
  {
   "cell_type": "code",
   "execution_count": 2,
   "id": "variable-softball",
   "metadata": {},
   "outputs": [],
   "source": [
    "\n",
    "with open('../dataset/layers/layer3.json') as dataset_file:\n",
    "    dataset = json.load(dataset_file)"
   ]
  },
  {
   "cell_type": "code",
   "execution_count": 3,
   "id": "interpreted-pressure",
   "metadata": {},
   "outputs": [
    {
     "name": "stdout",
     "output_type": "stream",
     "text": [
      "{'valid': [True, True, True, True, True, True, True, True, False, False, True, True, True, False], 'id': '000018c8a5', 'ingredients': [{'text': 'penne'}, {'text': 'cheese sauce'}, {'text': 'cheddar cheese'}, {'text': 'gruyere cheese'}, {'text': 'dried chipotle powder'}, {'text': 'unsalted butter'}, {'text': 'all - purpose flour'}, {'text': 'milk'}, {'text': '14 ounces semihard cheese (page 23), grated (about 3 1/2 cups)'}, {'text': '2 ounces semisoft cheese (page 23), grated (1/2 cup)'}, {'text': 'kosher salt'}, {'text': 'dried chipotle powder'}, {'text': 'garlic powder'}, {'text': '(makes about 4 cups)'}]}\n"
     ]
    }
   ],
   "source": [
    "print(dataset[0])"
   ]
  },
  {
   "cell_type": "code",
   "execution_count": 9,
   "id": "compliant-address",
   "metadata": {},
   "outputs": [],
   "source": [
    "random.seed(42)\n",
    "def get_random_shuffles(list_to_shuffle, var_num=10):\n",
    "    ret_list = []\n",
    "    for i in range(var_num):\n",
    "        random.shuffle(list_to_shuffle)\n",
    "        ret_list.append(list_to_shuffle[:])\n",
    "    return ret_list"
   ]
  },
  {
   "cell_type": "code",
   "execution_count": 5,
   "id": "medical-classic",
   "metadata": {},
   "outputs": [],
   "source": [
    "ingredient_list = []\n",
    "for recipe in dataset:\n",
    "    valid_ingredients = []\n",
    "    for i in range(len(recipe[\"ingredients\"])):\n",
    "        if recipe[\"valid\"][i]:\n",
    "            valid_ingredients.append(recipe[\"ingredients\"][i][\"text\"])\n",
    "    ingredient_list.append([\"\".join(ing.split()) for ing in valid_ingredients])"
   ]
  },
  {
   "cell_type": "code",
   "execution_count": 6,
   "id": "collaborative-engineer",
   "metadata": {},
   "outputs": [
    {
     "name": "stdout",
     "output_type": "stream",
     "text": [
      "['crescentrolls', 'sausage', 'swisscheese', 'cheddarcheese', 'eggs', 'oregano', 'garlicpowder', 'parmesancheese']\n",
      "['vodka', 'orangejuice', 'icecubes']\n",
      "['elbowmacaroni', 'half-and-halfcream', 'all-purposeflour', 'onionsalt', 'garlicpowder', 'sharpcheddarcheese', 'softbreadcrumbs', 'margarine']\n"
     ]
    }
   ],
   "source": [
    "print(ingredient_list[1000])\n",
    "print(ingredient_list[100000])\n",
    "print(ingredient_list[5000])\n"
   ]
  },
  {
   "cell_type": "code",
   "execution_count": 7,
   "id": "presidential-worse",
   "metadata": {},
   "outputs": [
    {
     "name": "stdout",
     "output_type": "stream",
     "text": [
      "removed 2753 outliers\n"
     ]
    }
   ],
   "source": [
    "# remove outliers\n",
    "# removes all ingredients that occur less than MINIMUM_OCCURENCES times\n",
    "from collections import defaultdict\n",
    "\n",
    "MINIMUM_OCCURENCES = 2\n",
    "\n",
    "vocab_count = defaultdict(int)\n",
    "for ingredients in ingredient_list:\n",
    "    for ingredient in ingredients:\n",
    "        vocab_count[ingredient] += 1\n",
    "        \n",
    "counter = 0\n",
    "for v in vocab_count.values():\n",
    "    if v < MINIMUM_OCCURENCES:\n",
    "        counter += 1\n",
    "\n",
    "for i in range(len(ingredient_list)):\n",
    "    new_ingredients = []\n",
    "    for ingredient in ingredient_list[i]:\n",
    "        if vocab_count[ingredient] > 1:\n",
    "            new_ingredients.append(ingredient)\n",
    "    ingredient_list[i] = new_ingredients\n",
    "\n",
    "\n",
    "print('removed', counter, 'outliers')\n",
    "    "
   ]
  },
  {
   "cell_type": "code",
   "execution_count": 8,
   "id": "shaped-finance",
   "metadata": {},
   "outputs": [
    {
     "data": {
      "text/plain": [
       "[<matplotlib.lines.Line2D at 0x7f22ffd79850>]"
      ]
     },
     "execution_count": 8,
     "metadata": {},
     "output_type": "execute_result"
    },
    {
     "data": {
      "image/png": "[encoded data removed]",
      "text/plain": [
       "<Figure size 432x288 with 1 Axes>"
      ]
     },
     "metadata": {
      "needs_background": "light"
     },
     "output_type": "display_data"
    }
   ],
   "source": [
    "\n",
    "counter_counter = defaultdict(int)\n",
    "for v in vocab_count.values():\n",
    "    counter_counter[v] += 1\n",
    "plt.plot(counter_counter.values())"
   ]
  },
  {
   "cell_type": "code",
   "execution_count": 10,
   "id": "behind-plenty",
   "metadata": {},
   "outputs": [],
   "source": [
    "# data augmentation\n",
    "# multiply dataset with random shuffles for word2vec\n",
    "# based on the assumption that the order of ingredients in a recipe is not important\n",
    "\n",
    "augmented_list = []\n",
    "for ingredients in ingredient_list:\n",
    "    for ing_list in get_random_shuffles(ingredients):\n",
    "        augmented_list.append(ing_list)\n",
    "ingredient_list = augmented_list"
   ]
  },
  {
   "cell_type": "code",
   "execution_count": 11,
   "id": "handy-competition",
   "metadata": {},
   "outputs": [],
   "source": [
    "from gensim.models import Word2Vec\n",
    "ingredients_per_recipe = ingredient_list\n",
    "model = Word2Vec(sentences=ingredients_per_recipe, size=100, window=3, min_count=1, workers=4)"
   ]
  },
  {
   "cell_type": "code",
   "execution_count": 9,
   "id": "compressed-theater",
   "metadata": {},
   "outputs": [
    {
     "name": "stdout",
     "output_type": "stream",
     "text": [
      "[('potatoes', 0.8750154376029968), ('turnip', 0.6734368801116943), ('whitepotato', 0.652134120464325), ('bakingpotato', 0.6355170011520386), ('whitepotatoes', 0.6341703534126282), ('dumplings', 0.6308233737945557), ('leek', 0.6186506748199463), ('parsnip', 0.613868236541748), ('greenpeas', 0.6040278077125549), ('boiledpotatoes', 0.6038579940795898), ('newpotato', 0.6027263402938843), ('rawpotatoes', 0.5932386517524719), ('redpotatoes', 0.5928860902786255), ('russetpotato', 0.5923498868942261), ('parsleyroot', 0.590911865234375), ('peas', 0.5905178785324097), ('bouillon', 0.5897656083106995), ('newpotatoes', 0.5879443883895874), ('bouilloncube', 0.5847479701042175), ('soupbones', 0.5759333372116089), ('potbarley', 0.5753577947616577), ('boilingpotatoes', 0.5687046051025391), ('stock', 0.5679877996444702), ('bayleaf', 0.5637009143829346), ('splitpeas', 0.5618088245391846), ('smallpotatoes', 0.5526571273803711), ('yellowsplitpeas', 0.5435934066772461), ('swede', 0.5433222651481628), ('celeriac', 0.5427746772766113), ('russetpotatoes', 0.5410674810409546), ('marrow', 0.5403154492378235), ('savory', 0.5386561155319214), ('boilingpotato', 0.5380045175552368), ('driedsplitgreenpeas', 0.5339709520339966), ('bakingpotatoes', 0.5337094068527222), ('barley', 0.5309690833091736), ('soup', 0.5308582782745361), ('stockcubes', 0.5307568907737732), ('turnips', 0.5306723117828369)]\n"
     ]
    }
   ],
   "source": [
    "print(model.wv.most_similar('potato', topn=50))"
   ]
  },
  {
   "cell_type": "code",
   "execution_count": 13,
   "id": "measured-prize",
   "metadata": {},
   "outputs": [],
   "source": [
    "import difflib\n"
   ]
  },
  {
   "cell_type": "code",
   "execution_count": 14,
   "id": "quality-tablet",
   "metadata": {},
   "outputs": [],
   "source": [
    "# finding ingredients that are practically the same (potato == redpotato)\n",
    "# building a graph of same ingredients\n",
    "graph = {}\n",
    "\n",
    "for ingredient in model.wv.vocab.keys():\n",
    "    edges = []\n",
    "    for result in model.wv.most_similar(ingredient, topn=50):\n",
    "        similarity = difflib.SequenceMatcher(None, ingredient, result[0]).ratio()\n",
    "        if similarity > 0.75 and result[1] > 0.6:\n",
    "            edges.append(result[0])\n",
    "    graph[ingredient] = (edges, False, None) # edges, visited, component\n",
    "\n"
   ]
  },
  {
   "cell_type": "code",
   "execution_count": 15,
   "id": "vertical-mouse",
   "metadata": {},
   "outputs": [],
   "source": [
    "#graph reset function\n",
    "for name, node in graph.items():\n",
    "    graph[name] = (node[0], False, None)"
   ]
  },
  {
   "cell_type": "code",
   "execution_count": 16,
   "id": "solid-wright",
   "metadata": {},
   "outputs": [],
   "source": [
    "# finding graph components\n",
    "components = []\n",
    "counter = 0\n",
    "for name, node in graph.items():\n",
    "    to_add = True\n",
    "    if node[1]:\n",
    "        counter += 1\n",
    "        continue\n",
    "    stack = [name]\n",
    "    component = [name]\n",
    "    graph[name] = (node[0], True, component)\n",
    "    while len(stack) > 0:\n",
    "        current_name = stack.pop()\n",
    "        for edge in graph[current_name][0]:\n",
    "            if not graph[edge][1]:\n",
    "                stack.append(edge)\n",
    "                component.append(edge)\n",
    "                graph[edge] = (graph[edge][0], True, component)\n",
    "            elif current_name not in graph[edge][2]:\n",
    "                new_component = graph[edge][2]\n",
    "                for n in component:\n",
    "                    new_component.append(n)\n",
    "                    graph[n] = (graph[n][0], True, new_component)\n",
    "                component = new_component\n",
    "                to_add=False\n",
    "    if to_add:\n",
    "        components.append(component)\n",
    "        \n",
    "#         print(component)\n",
    "        \n",
    "        "
   ]
  },
  {
   "cell_type": "code",
   "execution_count": 17,
   "id": "adolescent-advocate",
   "metadata": {},
   "outputs": [
    {
     "name": "stdout",
     "output_type": "stream",
     "text": [
      "Number of components 11157 Total number of ingredients 15484\n"
     ]
    },
    {
     "data": {
      "text/plain": [
       "[<matplotlib.lines.Line2D at 0x7f23e7648af0>]"
      ]
     },
     "execution_count": 17,
     "metadata": {},
     "output_type": "execute_result"
    },
    {
     "data": {
      "image/png": "[encoded data removed]",
      "text/plain": [
       "<Figure size 432x288 with 1 Axes>"
      ]
     },
     "metadata": {
      "needs_background": "light"
     },
     "output_type": "display_data"
    }
   ],
   "source": [
    "print('Number of components', len(components), 'Total number of ingredients', len(model.wv.vocab))\n",
    "\n",
    "total_count = 0\n",
    "for component in components:\n",
    "    total_count += len(component)\n",
    "    \n",
    "\n",
    "plt.plot(list(range(len(components))), list(map(len, components)), 'r')"
   ]
  },
  {
   "cell_type": "code",
   "execution_count": 23,
   "id": "abroad-editing",
   "metadata": {
    "scrolled": true
   },
   "outputs": [],
   "source": [
    "# mapping ingredients to the most common ingredient in their component\n",
    "mapper = {}\n",
    "for component in components:\n",
    "#     max_occurrence = 0\n",
    "#     most_occurring = \"\"\n",
    "    min_length = 10000\n",
    "    shortest = \"\"\n",
    "    for ingredient in component:\n",
    "#         occurrence = vocab_count[ingredient]\n",
    "#         if occurrence > max_occurrence:\n",
    "#             max_occurrence = occurrence\n",
    "#             most_occurring = ingredient\n",
    "        if min_length > len(ingredient):\n",
    "            min_length = len(ingredient)\n",
    "            shortest = ingredient\n",
    "    for ingredient in component:\n",
    "        mapper[ingredient] = shortest\n"
   ]
  },
  {
   "cell_type": "code",
   "execution_count": 31,
   "id": "civilian-diary",
   "metadata": {},
   "outputs": [],
   "source": [
    "# transform ingredients in recipe list\n",
    "for i in range(len(ingredient_list)):\n",
    "    new_ingredients = []\n",
    "    for ingredient in ingredient_list[i]:\n",
    "        new_ingredients.append(mapper[ingredient])\n",
    "    ingredient_list[i] = new_ingredients"
   ]
  },
  {
   "cell_type": "code",
   "execution_count": 32,
   "id": "joint-syndication",
   "metadata": {},
   "outputs": [],
   "source": [
    "# save new recipe list\n",
    "with open('../dataset/layers/layer4.json', 'w') as layer4file:\n",
    "    layer4file.write(json.dumps(ingredient_list[::10], indent=4))"
   ]
  }
 ],
 "metadata": {
  "kernelspec": {
   "display_name": "Python 3",
   "language": "python",
   "name": "python3"
  },
  "language_info": {
   "codemirror_mode": {
    "name": "ipython",
    "version": 3
   },
   "file_extension": ".py",
   "mimetype": "text/x-python",
   "name": "python",
   "nbconvert_exporter": "python",
   "pygments_lexer": "ipython3",
   "version": "3.8.6"
  }
 },
 "nbformat": 4,
 "nbformat_minor": 5
}
