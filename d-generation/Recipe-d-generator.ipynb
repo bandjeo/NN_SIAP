{
 "cells": [
  {
   "cell_type": "code",
   "execution_count": 1,
   "id": "pressed-kelly",
   "metadata": {},
   "outputs": [
    {
     "name": "stdout",
     "output_type": "stream",
     "text": [
      "Tensorflow version: 2.4.1\n",
      "Keras version: 2.4.0\n"
     ]
    }
   ],
   "source": [
    "# import os\n",
    "# os.environ[\"CUDA_VISIBLE_DEVICES\"] = \"-1\"\n",
    "import tensorflow as tf\n",
    "gpu_devices = tf.config.experimental.list_physical_devices('GPU')\n",
    "for device in gpu_devices: \n",
    "    tf.config.experimental.set_memory_growth(device, True)\n",
    "import matplotlib.pyplot as plt\n",
    "import numpy as np\n",
    "import time\n",
    "import pathlib\n",
    "import os\n",
    "import json\n",
    "\n",
    "print('Tensorflow version:', tf.__version__)\n",
    "print('Keras version:', tf.keras.__version__)"
   ]
  },
  {
   "cell_type": "code",
   "execution_count": 3,
   "id": "seeing-research",
   "metadata": {
    "scrolled": true
   },
   "outputs": [],
   "source": [
    "with open('../recipe1M_layers/layer1.json', 'r') as f:\n",
    "    dataset = json.load(f)"
   ]
  },
  {
   "cell_type": "code",
   "execution_count": 85,
   "id": "chubby-transparency",
   "metadata": {
    "collapsed": true
   },
   "outputs": [
    {
     "data": {
      "text/plain": [
       "{'ingredients': [{'text': '6 ounces penne'},\n",
       "  {'text': '2 cups Beechers Flagship Cheese Sauce (recipe follows)'},\n",
       "  {'text': '1 ounce Cheddar, grated (1/4 cup)'},\n",
       "  {'text': '1 ounce Gruyere cheese, grated (1/4 cup)'},\n",
       "  {'text': '1/4 to 1/2 teaspoon chipotle chili powder (see Note)'},\n",
       "  {'text': '1/4 cup (1/2 stick) unsalted butter'},\n",
       "  {'text': '1/3 cup all-purpose flour'},\n",
       "  {'text': '3 cups milk'},\n",
       "  {'text': '14 ounces semihard cheese (page 23), grated (about 3 1/2 cups)'},\n",
       "  {'text': '2 ounces semisoft cheese (page 23), grated (1/2 cup)'},\n",
       "  {'text': '1/2 teaspoon kosher salt'},\n",
       "  {'text': '1/4 to 1/2 teaspoon chipotle chili powder'},\n",
       "  {'text': '1/8 teaspoon garlic powder'},\n",
       "  {'text': '(makes about 4 cups)'}],\n",
       " 'url': 'http://www.epicurious.com/recipes/food/views/-world-s-best-mac-and-cheese-387747',\n",
       " 'partition': 'train',\n",
       " 'title': 'Worlds Best Mac and Cheese',\n",
       " 'id': '000018c8a5',\n",
       " 'instructions': [{'text': 'Preheat the oven to 350 F. Butter or oil an 8-inch baking dish.'},\n",
       "  {'text': 'Cook the penne 2 minutes less than package directions.'},\n",
       "  {'text': '(It will finish cooking in the oven.)'},\n",
       "  {'text': 'Rinse the pasta in cold water and set aside.'},\n",
       "  {'text': 'Combine the cooked pasta and the sauce in a medium bowl and mix carefully but thoroughly.'},\n",
       "  {'text': 'Scrape the pasta into the prepared baking dish.'},\n",
       "  {'text': 'Sprinkle the top with the cheeses and then the chili powder.'},\n",
       "  {'text': 'Bake, uncovered, for 20 minutes.'},\n",
       "  {'text': 'Let the mac and cheese sit for 5 minutes before serving.'},\n",
       "  {'text': 'Melt the butter in a heavy-bottomed saucepan over medium heat and whisk in the flour.'},\n",
       "  {'text': 'Continue whisking and cooking for 2 minutes.'},\n",
       "  {'text': 'Slowly add the milk, whisking constantly.'},\n",
       "  {'text': 'Cook until the sauce thickens, about 10 minutes, stirring frequently.'},\n",
       "  {'text': 'Remove from the heat.'},\n",
       "  {'text': 'Add the cheeses, salt, chili powder, and garlic powder.'},\n",
       "  {'text': 'Stir until the cheese is melted and all ingredients are incorporated, about 3 minutes.'},\n",
       "  {'text': 'Use immediately, or refrigerate for up to 3 days.'},\n",
       "  {'text': 'This sauce reheats nicely on the stove in a saucepan over low heat.'},\n",
       "  {'text': 'Stir frequently so the sauce doesnt scorch.'},\n",
       "  {'text': 'This recipe can be assembled before baking and frozen for up to 3 monthsjust be sure to use a freezer-to-oven pan and increase the baking time to 50 minutes.'},\n",
       "  {'text': 'One-half teaspoon of chipotle chili powder makes a spicy mac, so make sure your family and friends can handle it!'},\n",
       "  {'text': 'The proportion of pasta to cheese sauce is crucial to the success of the dish.'},\n",
       "  {'text': 'It will look like a lot of sauce for the pasta, but some of the liquid will be absorbed.'}]}"
      ]
     },
     "execution_count": 85,
     "metadata": {},
     "output_type": "execute_result"
    }
   ],
   "source": [
    "dataset[0]"
   ]
  },
  {
   "cell_type": "code",
   "execution_count": 4,
   "id": "advance-majority",
   "metadata": {},
   "outputs": [],
   "source": [
    "dataset_raw = []\n",
    "for record in dataset:\n",
    "    record_clean = {\n",
    "        \"title\": record[\"title\"],\n",
    "        \"ingredients\": [ingredient[\"text\"] for ingredient in record[\"ingredients\"]],\n",
    "        \"instructions\": \"\\n\".join([instruction[\"text\"] for instruction in record[\"instructions\"]]),\n",
    "        \"id\": record[\"id\"],\n",
    "        \"partition\": record[\"partition\"]\n",
    "    }\n",
    "    dataset_raw.append(record_clean)"
   ]
  },
  {
   "cell_type": "code",
   "execution_count": 5,
   "id": "seeing-melissa",
   "metadata": {
    "scrolled": true
   },
   "outputs": [
    {
     "data": {
      "text/plain": [
       "1029720"
      ]
     },
     "execution_count": 5,
     "metadata": {},
     "output_type": "execute_result"
    }
   ],
   "source": [
    "len(dataset_raw)"
   ]
  },
  {
   "cell_type": "code",
   "execution_count": 6,
   "id": "encouraging-philip",
   "metadata": {},
   "outputs": [],
   "source": [
    "# Filters out recipes which don't have either title or ingredients or instructions or partition or id.\n",
    "def recipe_validate_required_fields(recipe):\n",
    "    required_keys = ['title', 'ingredients', 'instructions', 'partition', 'id']\n",
    "    \n",
    "    if not recipe:\n",
    "        return False\n",
    "    \n",
    "    for required_key in required_keys:\n",
    "        if not recipe[required_key]:\n",
    "            return False\n",
    "        \n",
    "        if type(recipe[required_key]) == list and len(recipe[required_key]) == 0:\n",
    "            return False\n",
    "    \n",
    "    return True"
   ]
  },
  {
   "cell_type": "code",
   "execution_count": 7,
   "id": "assumed-sapphire",
   "metadata": {},
   "outputs": [
    {
     "name": "stdout",
     "output_type": "stream",
     "text": [
      "Dataset size BEFORE validation 1029720\n",
      "Dataset size AFTER validation 1029720\n",
      "Number of invalid recipes 0\n"
     ]
    }
   ],
   "source": [
    "dataset_validated = [recipe for recipe in dataset_raw if recipe_validate_required_fields(recipe)]\n",
    "\n",
    "print('Dataset size BEFORE validation', len(dataset_raw))\n",
    "print('Dataset size AFTER validation', len(dataset_validated))\n",
    "print('Number of invalid recipes', len(dataset_raw) - len(dataset_validated))"
   ]
  },
  {
   "cell_type": "code",
   "execution_count": 8,
   "id": "nutritional-butter",
   "metadata": {},
   "outputs": [],
   "source": [
    "STOP_WORD_TITLE = '📗 '\n",
    "STOP_WORD_INGREDIENTS = '\\n🥕\\n\\n'\n",
    "STOP_WORD_INSTRUCTIONS = '\\n📝\\n\\n'"
   ]
  },
  {
   "cell_type": "code",
   "execution_count": 9,
   "id": "collectible-earthquake",
   "metadata": {},
   "outputs": [],
   "source": [
    "# Converts recipe object to string (sequence of characters) for later usage in RNN input.\n",
    "def recipe_to_string(recipe):\n",
    "    \n",
    "    title = recipe['title']\n",
    "    ingredients = recipe['ingredients']\n",
    "    instructions = recipe['instructions'].split('\\n')\n",
    "    \n",
    "    ingredients_string = ''\n",
    "    for ingredient in ingredients:\n",
    "        if ingredient:\n",
    "            ingredients_string += f'• {ingredient}\\n'\n",
    "    \n",
    "    instructions_string = ''\n",
    "    for instruction in instructions:\n",
    "        if instruction:\n",
    "            instructions_string += f'▪︎ {instruction}\\n'\n",
    "    \n",
    "    return f'{STOP_WORD_TITLE}{title}\\n{STOP_WORD_INGREDIENTS}{ingredients_string}{STOP_WORD_INSTRUCTIONS}{instructions_string}'"
   ]
  },
  {
   "cell_type": "code",
   "execution_count": 10,
   "id": "irish-study",
   "metadata": {},
   "outputs": [
    {
     "name": "stdout",
     "output_type": "stream",
     "text": [
      "Stringified dataset size:  1029720\n"
     ]
    }
   ],
   "source": [
    "dataset_stringified = [recipe_to_string(recipe) for recipe in dataset_validated]\n",
    "\n",
    "print('Stringified dataset size: ', len(dataset_stringified))"
   ]
  },
  {
   "cell_type": "code",
   "execution_count": 11,
   "id": "premium-estimate",
   "metadata": {
    "collapsed": true
   },
   "outputs": [
    {
     "name": "stdout",
     "output_type": "stream",
     "text": [
      "Recipe #1\n",
      "---------\n",
      "📗 Worlds Best Mac and Cheese\n",
      "\n",
      "🥕\n",
      "\n",
      "• 6 ounces penne\n",
      "• 2 cups Beechers Flagship Cheese Sauce (recipe follows)\n",
      "• 1 ounce Cheddar, grated (1/4 cup)\n",
      "• 1 ounce Gruyere cheese, grated (1/4 cup)\n",
      "• 1/4 to 1/2 teaspoon chipotle chili powder (see Note)\n",
      "• 1/4 cup (1/2 stick) unsalted butter\n",
      "• 1/3 cup all-purpose flour\n",
      "• 3 cups milk\n",
      "• 14 ounces semihard cheese (page 23), grated (about 3 1/2 cups)\n",
      "• 2 ounces semisoft cheese (page 23), grated (1/2 cup)\n",
      "• 1/2 teaspoon kosher salt\n",
      "• 1/4 to 1/2 teaspoon chipotle chili powder\n",
      "• 1/8 teaspoon garlic powder\n",
      "• (makes about 4 cups)\n",
      "\n",
      "📝\n",
      "\n",
      "▪︎ Preheat the oven to 350 F. Butter or oil an 8-inch baking dish.\n",
      "▪︎ Cook the penne 2 minutes less than package directions.\n",
      "▪︎ (It will finish cooking in the oven.)\n",
      "▪︎ Rinse the pasta in cold water and set aside.\n",
      "▪︎ Combine the cooked pasta and the sauce in a medium bowl and mix carefully but thoroughly.\n",
      "▪︎ Scrape the pasta into the prepared baking dish.\n",
      "▪︎ Sprinkle the top with the cheeses and then the chili powder.\n",
      "▪︎ Bake, uncovered, for 20 minutes.\n",
      "▪︎ Let the mac and cheese sit for 5 minutes before serving.\n",
      "▪︎ Melt the butter in a heavy-bottomed saucepan over medium heat and whisk in the flour.\n",
      "▪︎ Continue whisking and cooking for 2 minutes.\n",
      "▪︎ Slowly add the milk, whisking constantly.\n",
      "▪︎ Cook until the sauce thickens, about 10 minutes, stirring frequently.\n",
      "▪︎ Remove from the heat.\n",
      "▪︎ Add the cheeses, salt, chili powder, and garlic powder.\n",
      "▪︎ Stir until the cheese is melted and all ingredients are incorporated, about 3 minutes.\n",
      "▪︎ Use immediately, or refrigerate for up to 3 days.\n",
      "▪︎ This sauce reheats nicely on the stove in a saucepan over low heat.\n",
      "▪︎ Stir frequently so the sauce doesnt scorch.\n",
      "▪︎ This recipe can be assembled before baking and frozen for up to 3 monthsjust be sure to use a freezer-to-oven pan and increase the baking time to 50 minutes.\n",
      "▪︎ One-half teaspoon of chipotle chili powder makes a spicy mac, so make sure your family and friends can handle it!\n",
      "▪︎ The proportion of pasta to cheese sauce is crucial to the success of the dish.\n",
      "▪︎ It will look like a lot of sauce for the pasta, but some of the liquid will be absorbed.\n",
      "\n",
      "\n",
      "\n",
      "Recipe #2\n",
      "---------\n",
      "📗 Dilly Macaroni Salad Recipe\n",
      "\n",
      "🥕\n",
      "\n",
      "• 1 c. elbow macaroni\n",
      "• 1 c. cubed American cheese (4 ounce.)\n",
      "• 1/2 c. sliced celery\n",
      "• 1/2 c. minced green pepper\n",
      "• 3 tbsp. minced pimento\n",
      "• 1/2 c. mayonnaise or possibly salad dressing\n",
      "• 1 tbsp. vinegar\n",
      "• 3/4 teaspoon salt\n",
      "• 1/2 teaspoon dry dill weed\n",
      "\n",
      "📝\n",
      "\n",
      "▪︎ Cook macaroni according to package directions; drain well.\n",
      "▪︎ Cold.\n",
      "▪︎ Combine macaroni, cheese cubes, celery, green pepper and pimento.\n",
      "▪︎ Blend together mayonnaise or possibly salad dressing, vinegar, salt and dill weed; add in to macaroni mix.\n",
      "▪︎ Toss lightly.\n",
      "▪︎ Cover and refrigeratewell.\n",
      "▪︎ Serve salad in lettuce lined bowl if you like.\n",
      "▪︎ Makes 6 servings.\n",
      "\n",
      "\n",
      "\n",
      "Recipe #3\n",
      "---------\n",
      "📗 Gazpacho\n",
      "\n",
      "🥕\n",
      "\n",
      "• 8 tomatoes, quartered\n",
      "• Kosher salt\n",
      "• 1 red onion, cut into small dice\n",
      "• 1 green bell pepper, cut into small dice\n",
      "• 1 red bell pepper, cut into small dice\n",
      "• 1 yellow bell pepper, cut into small dice\n",
      "• 1/2 cucumber, cut into small dice\n",
      "• Extra-virgin olive oil, for drizzling\n",
      "• 3 leaves fresh basil, finely chopped\n",
      "\n",
      "📝\n",
      "\n",
      "▪︎ Add the tomatoes to a food processor with a pinch of salt and puree until smooth.\n",
      "▪︎ Combine the onions, bell peppers and cucumbers with the tomato puree in a large bowl.\n",
      "▪︎ Chill at least 1 hour.\n",
      "▪︎ Drizzle with olive oil, garnish with chopped basil and serve.\n",
      "\n",
      "\n",
      "\n",
      "Recipe #4\n",
      "---------\n",
      "📗 Crunchy Onion Potato Bake\n",
      "\n",
      "🥕\n",
      "\n",
      "• 2 12 cups milk\n",
      "• 1 12 cups water\n",
      "• 14 cup butter\n",
      "• mashed potatoes, 1 box, homestyle\n",
      "• 1 (8 ounce) can whole kernel corn (drained)\n",
      "• 1 cup cheddar cheese\n",
      "• 1 cup French-fried onions\n",
      "\n",
      "📝\n",
      "\n",
      "▪︎ Preheat oven to 350 degrees Fahrenheit.\n",
      "▪︎ Spray pan with non stick cooking spray.\n",
      "▪︎ Heat milk, water and butter to boiling; stir in contents of both pouches of potatoes; let stand one minute.\n",
      "▪︎ Stir in corn.\n",
      "▪︎ Spoon half the potato mixture in pan.\n",
      "▪︎ Sprinkle half each of cheese and onions; top with remaining potatoes.\n",
      "▪︎ Sprinkle with remaining cheese and onions.\n",
      "▪︎ Bake 10 to 15 minutes until cheese is melted.\n",
      "▪︎ Enjoy !\n",
      "\n",
      "\n",
      "\n",
      "Recipe #5\n",
      "---------\n",
      "📗 Cool 'n Easy Creamy Watermelon Pie\n",
      "\n",
      "🥕\n",
      "\n",
      "• 1 (3 ounce) package watermelon gelatin\n",
      "• 14 cup boiling water\n",
      "• 1 (12 ounce) package Cool Whip, thawed\n",
      "• 2 cups cubed seedless watermelon\n",
      "• 1 graham cracker crust\n",
      "\n",
      "📝\n",
      "\n",
      "▪︎ Dissolve Jello in boiling water.\n",
      "▪︎ Allow to cool to room temp.\n",
      "▪︎ Whisk in Cool Whip.\n",
      "▪︎ Fold in watermelon.\n",
      "▪︎ Spoon into crust.\n",
      "▪︎ Chill for 2-3 hours or overnight.\n",
      "▪︎ Yum!\n",
      "\n",
      "\n",
      "\n",
      "Recipe #6\n",
      "---------\n",
      "📗 Easy Tropical Beef Skillet\n",
      "\n",
      "🥕\n",
      "\n",
      "• 12 cup shredded coconut\n",
      "• 1 lb lean ground beef\n",
      "• 1 -2 tablespoon minced fresh garlic (or to taste)\n",
      "• salt and black pepper\n",
      "• 1 tablespoon lemon juice\n",
      "• 1 tablespoon soy sauce\n",
      "• 2 tablespoons cornstarch\n",
      "• 1 (8 ounce) can pineapple chunks, drained, reserving the liquid\n",
      "• 1 (16 ounce) can mandarin oranges, drained, reserving the liquid\n",
      "• 12 cup cashew nuts\n",
      "\n",
      "📝\n",
      "\n",
      "▪︎ In a large skillet, toast the coconut over medium heat, until golden and crisp; set aside.\n",
      "▪︎ Brown ground beef and garlic in the same skillet; drain well.\n",
      "▪︎ Add salt, pepper lemon juice and soy sauce.\n",
      "▪︎ In a small bowl combine the cornstarch with reserved pineapple and mandarin orange liquids; stir well until smooth then add to ground beef and cook over medium heat for 5 mins, stirring constantly, until mixture is thickened.\n",
      "▪︎ Stir in the pineapple and mandarin oranges; cook 2-3 mins, or until thoroughly heated.\n",
      "▪︎ Serve over noodles or rice, and sprinkle with more toasted coconut and cashew nuts.\n",
      "\n",
      "\n",
      "\n",
      "Recipe #7\n",
      "---------\n",
      "📗 Kombu Tea Grilled Chicken Thigh\n",
      "\n",
      "🥕\n",
      "\n",
      "• 2 Chicken thighs\n",
      "• 2 tsp Kombu tea\n",
      "• 1 White pepper\n",
      "\n",
      "📝\n",
      "\n",
      "▪︎ Pierce the skin of the chicken with a fork or knife.\n",
      "▪︎ Sprinkle with kombu tea evenly on both sides of the chicken, about 1 teaspoon per chicken thigh.\n",
      "▪︎ Brown the skin side of the chicken first over high heat until golden brown.\n",
      "▪︎ Sprinkle some pepper on the meat just before flipping over.\n",
      "▪︎ Then brown the other side until golden brown.\n",
      "\n",
      "\n",
      "\n",
      "Recipe #8\n",
      "---------\n",
      "📗 Strawberry Rhubarb Dump Cake\n",
      "\n",
      "🥕\n",
      "\n",
      "• 6 -8 cups fresh rhubarb, or\n",
      "• 6 -8 cups frozen rhubarb, thawed\n",
      "• 1 12 cups granulated sugar\n",
      "• 6 ounces strawberry Jell-O gelatin dessert\n",
      "• 1 white cake mix (2 layer size)\n",
      "• 1 12 cups water\n",
      "• 12 cup butter or 12 cup margarine, melted\n",
      "\n",
      "📝\n",
      "\n",
      "▪︎ Put ingredients in a buttered 9 x 12 x 2-inch pan in even layers in the order that they are given - DO NOT MIX.\n",
      "▪︎ Bake in a 350 oven for 1 hour.\n",
      "\n",
      "\n",
      "\n",
      "Recipe #9\n",
      "---------\n",
      "📗 Yogurt Parfaits\n",
      "\n",
      "🥕\n",
      "\n",
      "• 8 ounces, weight Light Fat Free Vanilla Yogurt (I Used Activia)\n",
      "• 1 cup Fresh Sliced Strawberries\n",
      "• 1/4 cups Low-fat Granola\n",
      "\n",
      "📝\n",
      "\n",
      "▪︎ Layer all ingredients in a serving dish.\n",
      "\n",
      "\n",
      "\n",
      "Recipe #10\n",
      "---------\n",
      "📗 Zucchini Nut Bread\n",
      "\n",
      "🥕\n",
      "\n",
      "• 2 cups flour\n",
      "• 1 tablespoon cinnamon\n",
      "• 2 teaspoons baking soda\n",
      "• 1 teaspoon salt\n",
      "• 14 teaspoon baking powder\n",
      "• 3 eggs\n",
      "• 2 cups sugar\n",
      "• 1 cup vegetable oil\n",
      "• 1 tablespoon vanilla\n",
      "• 2 cups grated raw zucchini\n",
      "• 1 cup walnuts\n",
      "\n",
      "📝\n",
      "\n",
      "▪︎ Sift dry ingredients.\n",
      "▪︎ beat eggs untill frothy, add sugar, oil and vanilla.\n",
      "▪︎ Beat untillthick.\n",
      "▪︎ Stir in zucchini.\n",
      "▪︎ blend in sifted dry ingredients.\n",
      "▪︎ Fold in nuts.\n",
      "▪︎ pour in greased loaf pan and bake at 350 degrees for 1 1/2 hours.\n",
      "\n",
      "\n",
      "\n"
     ]
    }
   ],
   "source": [
    "for recipe_index, recipe_string in enumerate(dataset_stringified[:10]):\n",
    "    print('Recipe #{}\\n---------'.format(recipe_index + 1))\n",
    "    print(recipe_string)\n",
    "    print('\\n')"
   ]
  },
  {
   "cell_type": "code",
   "execution_count": 12,
   "id": "ultimate-samoa",
   "metadata": {
    "collapsed": true
   },
   "outputs": [
    {
     "name": "stdout",
     "output_type": "stream",
     "text": [
      "📗 Cashew Chicken\n",
      "\n",
      "🥕\n",
      "\n",
      "• 14 cup tapioca flour\n",
      "• 12 teaspoon pepper\n",
      "• 6 tablespoons coconut aminos or 6 tablespoons low sodium soy sauce\n",
      "• 2 lbs chicken breasts (cut into 1.5-inch pieces) or 2 lbs chicken thighs (cut into 1.5-inch pieces)\n",
      "• 4 tablespoons rice wine vinegar\n",
      "• 4 tablespoons organic ketchup\n",
      "• 12 teaspoon powdered ginger or 1 teaspoon fresh ginger\n",
      "• 1 -2 tablespoon organic sugar\n",
      "• 2 garlic cloves, minced\n",
      "• 12 teaspoon red pepper flakes (optional)\n",
      "• 2 carrots, sliced thin\n",
      "• 2 stalks celery, sliced thin\n",
      "• 1 medium zucchini, chopped\n",
      "• 3 -4 green onions, sliced\n",
      "• 2 -3 tablespoons coconut oil, divided\n",
      "• 1 cup raw cashews\n",
      "\n",
      "📝\n",
      "\n",
      "▪︎ Melt 1.5 Tbs of the oil in a large skillet and saute all the veggies until almost soft; remove to a plate.\n",
      "▪︎ Melt the remaining coconut oil in the skillet.\n",
      "▪︎ Meanwhile, combine the tapioca flour and the pepper in a large Ziplock bag.\n",
      "▪︎ Add chicken and shake to cover all pieces.\n",
      "▪︎ Cook the chicken in the hot oil, over medium high heat, stirring often, until done.\n",
      "▪︎ While chicken is cooking, combine remaining sauce ingredients in a small bowl.\n",
      "▪︎ When chicken is done cooking, add the vegetables and the sauce back in, along with the cashews, and stir thoroughly.\n",
      "▪︎ Warm through for a few minutes.\n",
      "▪︎ Pour individual servings over cooked rice and serve.\n",
      "\n"
     ]
    }
   ],
   "source": [
    "print(dataset_stringified[50000])"
   ]
  },
  {
   "cell_type": "code",
   "execution_count": 13,
   "id": "central-farmer",
   "metadata": {},
   "outputs": [],
   "source": [
    "recipes_lengths = []\n",
    "for recipe_text in dataset_stringified:\n",
    "    recipes_lengths.append(len(recipe_text))"
   ]
  },
  {
   "cell_type": "code",
   "execution_count": 14,
   "id": "exterior-number",
   "metadata": {},
   "outputs": [
    {
     "data": {
      "image/png": "[encoded data removed]",
      "text/plain": [
       "<Figure size 432x288 with 1 Axes>"
      ]
     },
     "metadata": {
      "needs_background": "light"
     },
     "output_type": "display_data"
    }
   ],
   "source": [
    "plt.hist(recipes_lengths, bins=50)\n",
    "plt.show()"
   ]
  },
  {
   "cell_type": "code",
   "execution_count": 15,
   "id": "binary-cancellation",
   "metadata": {},
   "outputs": [
    {
     "data": {
      "image/png": "[encoded data removed]",
      "text/plain": [
       "<Figure size 432x288 with 1 Axes>"
      ]
     },
     "metadata": {
      "needs_background": "light"
     },
     "output_type": "display_data"
    }
   ],
   "source": [
    "plt.hist(recipes_lengths, range=(0, 8000), bins=50)\n",
    "plt.show()"
   ]
  },
  {
   "cell_type": "code",
   "execution_count": 16,
   "id": "ready-charleston",
   "metadata": {},
   "outputs": [],
   "source": [
    "# Looks like a limit of 2000 characters for the recipes will cover 80+% cases.\n",
    "# We may try to train RNN with this maximum recipe length limit.\n",
    "MAX_RECIPE_LENGTH = 1500"
   ]
  },
  {
   "cell_type": "code",
   "execution_count": 17,
   "id": "decreased-progressive",
   "metadata": {},
   "outputs": [],
   "source": [
    "def filter_recipes_by_length(recipe_test):\n",
    "    return len(recipe_test) <= MAX_RECIPE_LENGTH "
   ]
  },
  {
   "cell_type": "code",
   "execution_count": 19,
   "id": "rising-commonwealth",
   "metadata": {},
   "outputs": [
    {
     "name": "stdout",
     "output_type": "stream",
     "text": [
      "Dataset size BEFORE filtering:  1029720\n",
      "Dataset size AFTER filtering:  870625\n",
      "Number of etiminated recipes:  159095\n"
     ]
    }
   ],
   "source": [
    "dataset_filtered = [recipe_text for recipe_text in dataset_stringified if filter_recipes_by_length(recipe_text)]\n",
    "\n",
    "print('Dataset size BEFORE filtering: ', len(dataset_stringified))\n",
    "print('Dataset size AFTER filtering: ', len(dataset_filtered))\n",
    "print('Number of etiminated recipes: ', len(dataset_stringified) - len(dataset_filtered))"
   ]
  },
  {
   "cell_type": "code",
   "execution_count": 20,
   "id": "scientific-focus",
   "metadata": {},
   "outputs": [],
   "source": [
    "dataset_filtered = dataset_filtered[:200000]"
   ]
  },
  {
   "cell_type": "code",
   "execution_count": 21,
   "id": "authorized-emphasis",
   "metadata": {},
   "outputs": [],
   "source": [
    "with open('../recipe1M_layers/dataset_short.json', 'w') as f:\n",
    "    json.dump(dataset_filtered, f)"
   ]
  },
  {
   "cell_type": "code",
   "execution_count": 1,
   "id": "described-operator",
   "metadata": {},
   "outputs": [
    {
     "name": "stdout",
     "output_type": "stream",
     "text": [
      "Tensorflow version: 2.4.1\n",
      "Keras version: 2.4.0\n"
     ]
    }
   ],
   "source": [
    "# import os\n",
    "# os.environ[\"CUDA_VISIBLE_DEVICES\"] = \"-1\"\n",
    "\n",
    "import tensorflow as tf\n",
    "gpu_devices = tf.config.experimental.list_physical_devices('GPU')\n",
    "for device in gpu_devices: \n",
    "    tf.config.experimental.set_memory_growth(device, True)\n",
    "import matplotlib.pyplot as plt\n",
    "import numpy as np\n",
    "import time\n",
    "import pathlib\n",
    "import os\n",
    "import json\n",
    "\n",
    "print('Tensorflow version:', tf.__version__)\n",
    "print('Keras version:', tf.keras.__version__)"
   ]
  },
  {
   "cell_type": "code",
   "execution_count": 22,
   "id": "coated-disease",
   "metadata": {},
   "outputs": [],
   "source": [
    "with open('../recipe1M_layers/dataset_short.json', 'r') as f:\n",
    "    dataset_filtered = json.load(f)"
   ]
  },
  {
   "cell_type": "code",
   "execution_count": 3,
   "id": "falling-transport",
   "metadata": {},
   "outputs": [],
   "source": [
    "# dataset_filtered = dataset_filtered[:100000]"
   ]
  },
  {
   "cell_type": "code",
   "execution_count": 23,
   "id": "lightweight-lexington",
   "metadata": {},
   "outputs": [],
   "source": [
    "# Looks like a limit of 2000 characters for the recipes will cover 80+% cases.\n",
    "# We may try to train RNN with this maximum recipe length limit.\n",
    "MAX_RECIPE_LENGTH = 1500"
   ]
  },
  {
   "cell_type": "code",
   "execution_count": 24,
   "id": "egyptian-crowd",
   "metadata": {},
   "outputs": [
    {
     "name": "stdout",
     "output_type": "stream",
     "text": [
      "MAX_RECIPE_LENGTH:  1500\n",
      "TOTAL_RECIPES_NUM:  200000\n"
     ]
    }
   ],
   "source": [
    "TOTAL_RECIPES_NUM = len(dataset_filtered)\n",
    "\n",
    "print('MAX_RECIPE_LENGTH: ', MAX_RECIPE_LENGTH)\n",
    "print('TOTAL_RECIPES_NUM: ', TOTAL_RECIPES_NUM)"
   ]
  },
  {
   "cell_type": "code",
   "execution_count": 25,
   "id": "later-replica",
   "metadata": {},
   "outputs": [],
   "source": [
    "# Indicator of the end of the recipe.\n",
    "STOP_SIGN = '␣'"
   ]
  },
  {
   "cell_type": "code",
   "execution_count": 26,
   "id": "through-measurement",
   "metadata": {},
   "outputs": [],
   "source": [
    "tokenizer = tf.keras.preprocessing.text.Tokenizer(\n",
    "    char_level=True,\n",
    "    filters='',\n",
    "    lower=False,\n",
    "    split=''\n",
    ")"
   ]
  },
  {
   "cell_type": "code",
   "execution_count": 27,
   "id": "killing-cause",
   "metadata": {},
   "outputs": [],
   "source": [
    "# Stop word is not a part of recipes, but tokenizer must know about it as well.\n",
    "tokenizer.fit_on_texts([STOP_SIGN])"
   ]
  },
  {
   "cell_type": "code",
   "execution_count": 28,
   "id": "standing-session",
   "metadata": {},
   "outputs": [],
   "source": [
    "tokenizer.fit_on_texts(dataset_filtered)"
   ]
  },
  {
   "cell_type": "code",
   "execution_count": 29,
   "id": "affecting-success",
   "metadata": {
    "scrolled": true
   },
   "outputs": [],
   "source": [
    "# tokenizer.get_config()"
   ]
  },
  {
   "cell_type": "code",
   "execution_count": 30,
   "id": "clean-illinois",
   "metadata": {},
   "outputs": [
    {
     "name": "stdout",
     "output_type": "stream",
     "text": [
      "VOCABULARY_SIZE:  105\n"
     ]
    }
   ],
   "source": [
    "# Adding +1 to take into account a special unassigned 0 index.\n",
    "# @see: https://www.tensorflow.org/api_docs/python/tf/keras/preprocessing/text/Tokenizer\n",
    "VOCABULARY_SIZE = len(tokenizer.word_counts) + 1\n",
    "\n",
    "print('VOCABULARY_SIZE: ', VOCABULARY_SIZE)"
   ]
  },
  {
   "cell_type": "code",
   "execution_count": 31,
   "id": "harmful-proxy",
   "metadata": {},
   "outputs": [
    {
     "name": "stdout",
     "output_type": "stream",
     "text": [
      "t\n",
      ".\n"
     ]
    }
   ],
   "source": [
    "print(tokenizer.index_word[5])\n",
    "print(tokenizer.index_word[20])"
   ]
  },
  {
   "cell_type": "code",
   "execution_count": 32,
   "id": "ceramic-chuck",
   "metadata": {},
   "outputs": [
    {
     "data": {
      "text/plain": [
       "8"
      ]
     },
     "execution_count": 32,
     "metadata": {},
     "output_type": "execute_result"
    }
   ],
   "source": [
    "tokenizer.word_index['r']"
   ]
  },
  {
   "cell_type": "code",
   "execution_count": 33,
   "id": "given-worker",
   "metadata": {},
   "outputs": [],
   "source": [
    "# For demo application we need to have an array of characters as vocabulary.\n",
    "js_vocabulary = tokenizer.sequences_to_texts([[word_index] for word_index in range(VOCABULARY_SIZE)])\n",
    "# print([char for char in js_vocabulary])"
   ]
  },
  {
   "cell_type": "code",
   "execution_count": 34,
   "id": "passive-singing",
   "metadata": {},
   "outputs": [],
   "source": [
    "def recipe_sequence_to_string(recipe_sequence):\n",
    "    recipe_stringified = tokenizer.sequences_to_texts([recipe_sequence])[0]\n",
    "    recipe_stringified = recipe_stringified.replace('   ', '_').replace(' ', '').replace('_', ' ')\n",
    "#     print(recipe_stringified)\n",
    "    return recipe_stringified"
   ]
  },
  {
   "cell_type": "code",
   "execution_count": 35,
   "id": "general-benchmark",
   "metadata": {},
   "outputs": [
    {
     "name": "stdout",
     "output_type": "stream",
     "text": [
      "📗 yes\n"
     ]
    }
   ],
   "source": [
    "# Test proper conversion from text to indices.\n",
    "# This is needed for debugging a demo app.\n",
    "tokenized = tokenizer.texts_to_sequences(['📗 yes'])\n",
    "# print(tokenized)\n",
    "detokenized = tokenizer.sequences_to_texts(tokenized)\n",
    "# print(detokenized)\n",
    "print(recipe_sequence_to_string(tokenized[0]))"
   ]
  },
  {
   "cell_type": "code",
   "execution_count": 36,
   "id": "original-words",
   "metadata": {},
   "outputs": [],
   "source": [
    "dataset_vectorized = tokenizer.texts_to_sequences(dataset_filtered)"
   ]
  },
  {
   "cell_type": "code",
   "execution_count": 37,
   "id": "incorrect-deviation",
   "metadata": {},
   "outputs": [],
   "source": [
    "dataset_vectorized_padded_without_stops = tf.keras.preprocessing.sequence.pad_sequences(\n",
    "    dataset_vectorized,\n",
    "    padding='post',\n",
    "    truncating='post',\n",
    "    # We use -1 here and +1 in the next step to make sure that all recipes will have at least 1 stops\n",
    "    # sign at the end, since each sequence will be shifted and truncated afterwards (to generate X and Y sequences).\n",
    "    maxlen=MAX_RECIPE_LENGTH-1,\n",
    "    value=tokenizer.texts_to_sequences([STOP_SIGN])[0]\n",
    ")"
   ]
  },
  {
   "cell_type": "code",
   "execution_count": 38,
   "id": "humanitarian-inside",
   "metadata": {},
   "outputs": [],
   "source": [
    "dataset_vectorized_padded = tf.keras.preprocessing.sequence.pad_sequences(\n",
    "    dataset_vectorized_padded_without_stops,\n",
    "    padding='post',\n",
    "    truncating='post',\n",
    "    maxlen=MAX_RECIPE_LENGTH+1,\n",
    "    value=tokenizer.texts_to_sequences([STOP_SIGN])[0]\n",
    ")"
   ]
  },
  {
   "cell_type": "code",
   "execution_count": 39,
   "id": "competent-archives",
   "metadata": {},
   "outputs": [
    {
     "name": "stdout",
     "output_type": "stream",
     "text": [
      "<TensorSliceDataset shapes: (1501,), types: tf.int32>\n"
     ]
    }
   ],
   "source": [
    "dataset = tf.data.Dataset.from_tensor_slices(dataset_vectorized_padded)\n",
    "\n",
    "print(dataset)"
   ]
  },
  {
   "cell_type": "code",
   "execution_count": 40,
   "id": "iraqi-evolution",
   "metadata": {},
   "outputs": [],
   "source": [
    "def split_input_target(recipe):\n",
    "    input_text = recipe[:-1]\n",
    "    target_text = recipe[1:]\n",
    "    \n",
    "    return input_text, target_text"
   ]
  },
  {
   "cell_type": "code",
   "execution_count": 41,
   "id": "subject-pantyhose",
   "metadata": {},
   "outputs": [
    {
     "name": "stdout",
     "output_type": "stream",
     "text": [
      "<MapDataset shapes: ((1500,), (1500,)), types: (tf.int32, tf.int32)>\n"
     ]
    }
   ],
   "source": [
    "dataset_targeted = dataset.map(split_input_target)\n",
    "\n",
    "print(dataset_targeted)"
   ]
  },
  {
   "cell_type": "code",
   "execution_count": 42,
   "id": "instant-vietnamese",
   "metadata": {},
   "outputs": [
    {
     "name": "stdout",
     "output_type": "stream",
     "text": [
      "TOTAL_RECIPES_NUM:  200000\n",
      "MAX_RECIPE_LENGTH:  1500\n",
      "VOCABULARY_SIZE:  105\n"
     ]
    }
   ],
   "source": [
    "print('TOTAL_RECIPES_NUM: ', TOTAL_RECIPES_NUM)\n",
    "print('MAX_RECIPE_LENGTH: ', MAX_RECIPE_LENGTH)\n",
    "print('VOCABULARY_SIZE: ', VOCABULARY_SIZE)"
   ]
  },
  {
   "cell_type": "code",
   "execution_count": 43,
   "id": "communist-marine",
   "metadata": {},
   "outputs": [],
   "source": [
    "# Batch size.\n",
    "BATCH_SIZE = 64\n",
    "\n",
    "# Buffer size to shuffle the dataset (TF data is designed to work\n",
    "# with possibly infinite sequences, so it doesn't attempt to shuffle\n",
    "# the entire sequence in memory. Instead, it maintains a buffer in\n",
    "# which it shuffles elements).\n",
    "SHUFFLE_BUFFER_SIZE = 1000"
   ]
  },
  {
   "cell_type": "code",
   "execution_count": 44,
   "id": "portable-found",
   "metadata": {},
   "outputs": [],
   "source": [
    "EPOCHS_DELTA = 1"
   ]
  },
  {
   "cell_type": "code",
   "execution_count": 45,
   "id": "applicable-signal",
   "metadata": {},
   "outputs": [
    {
     "name": "stdout",
     "output_type": "stream",
     "text": [
      "<RepeatDataset shapes: ((64, 1500), (64, 1500)), types: (tf.int32, tf.int32)>\n"
     ]
    }
   ],
   "source": [
    "dataset_train = dataset_targeted \\\n",
    "  .shuffle(SHUFFLE_BUFFER_SIZE) \\\n",
    "  .batch(BATCH_SIZE, drop_remainder=True) \\\n",
    "  .repeat(EPOCHS_DELTA)\n",
    "\n",
    "print(dataset_train)"
   ]
  },
  {
   "cell_type": "code",
   "execution_count": 46,
   "id": "dominican-bridge",
   "metadata": {},
   "outputs": [
    {
     "name": "stdout",
     "output_type": "stream",
     "text": [
      "1st batch: input_text: tf.Tensor(\n",
      "[[ 47   1  32 ... 103 103 103]\n",
      " [ 47   1  56 ... 103 103 103]\n",
      " [ 47   1  33 ... 103 103 103]\n",
      " ...\n",
      " [ 47   1  33 ... 103 103 103]\n",
      " [ 47   1  52 ... 103 103 103]\n",
      " [ 47   1  43 ... 103 103 103]], shape=(64, 1500), dtype=int32)\n",
      "\n",
      "1st batch: target_text: tf.Tensor(\n",
      "[[  1  32  14 ... 103 103 103]\n",
      " [  1  56   3 ... 103 103 103]\n",
      " [  1  33   8 ... 103 103 103]\n",
      " ...\n",
      " [  1  33  16 ... 103 103 103]\n",
      " [  1  52   4 ... 103 103 103]\n",
      " [  1  43   4 ... 103 103 103]], shape=(64, 1500), dtype=int32)\n"
     ]
    }
   ],
   "source": [
    "for input_text, target_text in dataset_train.take(1):\n",
    "    print('1st batch: input_text:', input_text)\n",
    "    print()\n",
    "    print('1st batch: target_text:', target_text)"
   ]
  },
  {
   "cell_type": "code",
   "execution_count": 47,
   "id": "sudden-gambling",
   "metadata": {},
   "outputs": [],
   "source": [
    "# Length of the vocabulary in chars.\n",
    "vocab_size = VOCABULARY_SIZE\n",
    "\n",
    "# The embedding dimension.\n",
    "embedding_dim = 256\n",
    "\n",
    "# Number of RNN units.\n",
    "rnn_units = 1024\n",
    "\n",
    "STEPS_PER_EPOCH = TOTAL_RECIPES_NUM // BATCH_SIZE#1500"
   ]
  },
  {
   "cell_type": "code",
   "execution_count": 48,
   "id": "surprising-armstrong",
   "metadata": {},
   "outputs": [],
   "source": [
    "def build_model_1(vocab_size, embedding_dim, rnn_units, batch_size):\n",
    "    model = tf.keras.models.Sequential()\n",
    "\n",
    "    model.add(tf.keras.layers.Embedding(\n",
    "        input_dim=vocab_size,\n",
    "        input_length=MAX_RECIPE_LENGTH,\n",
    "        output_dim=embedding_dim,\n",
    "        batch_input_shape=[batch_size, MAX_RECIPE_LENGTH]\n",
    "    ))\n",
    "\n",
    "    model.add(tf.keras.layers.LSTM(\n",
    "        batch_input_shape=[batch_size, MAX_RECIPE_LENGTH, embedding_dim],\n",
    "        units=rnn_units,\n",
    "        return_sequences=True,\n",
    "        stateful=True,\n",
    "        recurrent_initializer=tf.keras.initializers.GlorotNormal()\n",
    "    ))\n",
    "\n",
    "    model.add(tf.keras.layers.Dense(vocab_size))\n",
    "    \n",
    "    return model"
   ]
  },
  {
   "cell_type": "code",
   "execution_count": 49,
   "id": "above-mason",
   "metadata": {
    "scrolled": true
   },
   "outputs": [
    {
     "name": "stdout",
     "output_type": "stream",
     "text": [
      "Model: \"sequential\"\n",
      "_________________________________________________________________\n",
      "Layer (type)                 Output Shape              Param #   \n",
      "=================================================================\n",
      "embedding (Embedding)        (64, 1500, 256)           26880     \n",
      "_________________________________________________________________\n",
      "lstm (LSTM)                  (64, 1500, 1024)          5246976   \n",
      "_________________________________________________________________\n",
      "dense (Dense)                (64, 1500, 105)           107625    \n",
      "=================================================================\n",
      "Total params: 5,381,481\n",
      "Trainable params: 5,381,481\n",
      "Non-trainable params: 0\n",
      "_________________________________________________________________\n"
     ]
    }
   ],
   "source": [
    "model_1 = build_model_1(vocab_size, embedding_dim, rnn_units, BATCH_SIZE)\n",
    "\n",
    "model_1.summary()"
   ]
  },
  {
   "cell_type": "code",
   "execution_count": 56,
   "id": "coral-introduction",
   "metadata": {
    "scrolled": true
   },
   "outputs": [
    {
     "name": "stdout",
     "output_type": "stream",
     "text": [
      "tf.Tensor(\n",
      "[[  1  32  15 ... 103 103 103]\n",
      " [  1  33  16 ... 103 103 103]\n",
      " [  1  65   2 ... 103 103 103]\n",
      " ...\n",
      " [  1  39   4 ... 103 103 103]\n",
      " [  1  43   3 ... 103 103 103]\n",
      " [  1  73   2 ... 103 103 103]], shape=(64, 1500), dtype=int32)\n"
     ]
    }
   ],
   "source": [
    "for input_text, target_text in dataset_train.take(1):\n",
    "    print(target_text)"
   ]
  },
  {
   "cell_type": "code",
   "execution_count": 34,
   "id": "removed-profile",
   "metadata": {},
   "outputs": [
    {
     "name": "stdout",
     "output_type": "stream",
     "text": [
      "(64, 1500, 105) # (batch_size, sequence_length, vocab_size)\n"
     ]
    }
   ],
   "source": [
    "for input_example_batch, target_example_batch in dataset_train.take(1):\n",
    "    example_batch_predictions = model_1(input_example_batch)\n",
    "    print(example_batch_predictions.shape, \"# (batch_size, sequence_length, vocab_size)\")"
   ]
  },
  {
   "cell_type": "code",
   "execution_count": 35,
   "id": "central-cowboy",
   "metadata": {},
   "outputs": [
    {
     "name": "stdout",
     "output_type": "stream",
     "text": [
      "Prediction shape:  (64, 1500, 105)  # (batch_size, sequence_length, vocab_size)\n",
      "scalar_loss.shape:       (64, 1500)\n",
      "scalar_loss:       4.6533303\n"
     ]
    }
   ],
   "source": [
    "# An objective function.\n",
    "# The function is any callable with the signature scalar_loss = fn(y_true, y_pred).\n",
    "def loss(labels, logits):\n",
    "    entropy = tf.keras.losses.sparse_categorical_crossentropy(\n",
    "      y_true=labels,\n",
    "      y_pred=logits,\n",
    "      from_logits=True\n",
    "    )\n",
    "    \n",
    "    return entropy\n",
    "\n",
    "example_batch_loss = loss(target_example_batch, example_batch_predictions)\n",
    "\n",
    "print(\"Prediction shape: \", example_batch_predictions.shape, \" # (batch_size, sequence_length, vocab_size)\")\n",
    "print(\"scalar_loss.shape:      \", example_batch_loss.shape)\n",
    "print(\"scalar_loss:      \", example_batch_loss.numpy().mean())"
   ]
  },
  {
   "cell_type": "code",
   "execution_count": 37,
   "id": "blind-astronomy",
   "metadata": {},
   "outputs": [],
   "source": [
    "adam_optimizer = tf.keras.optimizers.Adam(learning_rate=0.001)\n",
    "\n",
    "model_1.compile(\n",
    "    optimizer=adam_optimizer,\n",
    "    loss=loss\n",
    ")"
   ]
  },
  {
   "cell_type": "code",
   "execution_count": 50,
   "id": "unexpected-static",
   "metadata": {},
   "outputs": [],
   "source": [
    "# Directory where the checkpoints will be saved.\n",
    "checkpoint_dir = 'tmp/checkpoints'\n",
    "os.makedirs(checkpoint_dir, exist_ok=True)"
   ]
  },
  {
   "cell_type": "code",
   "execution_count": 51,
   "id": "aerial-playing",
   "metadata": {},
   "outputs": [],
   "source": [
    "import zipfile\n",
    "\n",
    "def download_latest_checkpoint(zip_only=True):\n",
    "    latest_checkpoint_path = tf.train.latest_checkpoint(checkpoint_dir)\n",
    "    latest_checkpoint_name = os.path.split(latest_checkpoint_path)[-1]\n",
    "    latest_checkpoint_zip_name = latest_checkpoint_name + '.zip'\n",
    "    \n",
    "    print('latest_checkpoint_path: ', latest_checkpoint_path)\n",
    "    print('latest_checkpoint_name: ', latest_checkpoint_name)\n",
    "    print('---\\n')\n",
    "\n",
    "    print('Checkpoint files:')\n",
    "    with zipfile.ZipFile(latest_checkpoint_zip_name, mode='w') as zip_obj:\n",
    "        for folder_name, subfolders, filenames in os.walk(checkpoint_dir):\n",
    "            for filename in filenames:\n",
    "                if filename.startswith(latest_checkpoint_name):\n",
    "                        print('  - ' + filename)\n",
    "                        file_path = os.path.join(folder_name, filename)\n",
    "                        zip_obj.write(file_path, os.path.basename(file_path))\n",
    "    print('---\\n')\n",
    "    print('Zipped to: ', latest_checkpoint_zip_name)\n",
    "\n",
    "    if not zip_only:\n",
    "        files.download(latest_checkpoint_zip_name)"
   ]
  },
  {
   "cell_type": "code",
   "execution_count": 52,
   "id": "social-voice",
   "metadata": {},
   "outputs": [],
   "source": [
    "def model_weights_from_latest_checkpoint(model):\n",
    "    latest_checkpoint_path = tf.train.latest_checkpoint(checkpoint_dir)\n",
    "\n",
    "    if not latest_checkpoint_path:\n",
    "        print('Latest checkpoint was not found. Using model as is.')\n",
    "        return model\n",
    "\n",
    "    print('latest_checkpoint_path: ', latest_checkpoint_path)\n",
    "\n",
    "    model.load_weights(latest_checkpoint_path)\n",
    "\n",
    "    return model"
   ]
  },
  {
   "cell_type": "code",
   "execution_count": 59,
   "id": "defensive-honduras",
   "metadata": {},
   "outputs": [],
   "source": [
    "def initial_epoch_from_latest_checkpoint():\n",
    "    print(tf.train.latest_checkpoint(checkpoint_dir))\n",
    "    latest_checkpoint_path = tf.train.latest_checkpoint(checkpoint_dir)\n",
    "\n",
    "    if not latest_checkpoint_path:\n",
    "        print('Latest checkpoint was not found. Starting from epoch #0')\n",
    "        return 0\n",
    "\n",
    "    print('latest_checkpoint_path: ', latest_checkpoint_path)\n",
    "\n",
    "    latest_checkpoint_name = os.path.split(latest_checkpoint_path)[-1]\n",
    "    print('latest_checkpoint_name: ', latest_checkpoint_name)\n",
    "\n",
    "    latest_checkpoint_num = latest_checkpoint_name.split('_')[-1]\n",
    "    print('latest_checkpoint_num: ', latest_checkpoint_num)\n",
    "\n",
    "    return int(latest_checkpoint_num)"
   ]
  },
  {
   "cell_type": "code",
   "execution_count": 54,
   "id": "fifty-cisco",
   "metadata": {},
   "outputs": [],
   "source": [
    "def unzip_checkpoint(checkpoint_zip_path):\n",
    "    if not os.path.exists(checkpoint_zip_path):\n",
    "        print('Cannot find a specified file')\n",
    "        return\n",
    "\n",
    "    os.makedirs(checkpoint_dir, exist_ok=True)\n",
    "    with zipfile.ZipFile(checkpoint_zip_path, 'r') as zip_obj:\n",
    "        zip_obj.extractall(checkpoint_dir)\n",
    "\n",
    "    %ls -la ./tmp/checkpoints"
   ]
  },
  {
   "cell_type": "code",
   "execution_count": 43,
   "id": "speaking-times",
   "metadata": {},
   "outputs": [],
   "source": [
    "early_stopping_callback = tf.keras.callbacks.EarlyStopping(\n",
    "    patience=2,\n",
    "    monitor='loss',\n",
    "    restore_best_weights=True,\n",
    "    verbose=1\n",
    ")"
   ]
  },
  {
   "cell_type": "code",
   "execution_count": 44,
   "id": "norman-defeat",
   "metadata": {},
   "outputs": [],
   "source": [
    "checkpoint_prefix = os.path.join(checkpoint_dir, 'ckpt_{epoch}')\n",
    "checkpoint_callback=tf.keras.callbacks.ModelCheckpoint(\n",
    "    filepath=checkpoint_prefix,\n",
    "    save_weights_only=True\n",
    ")"
   ]
  },
  {
   "cell_type": "code",
   "execution_count": 60,
   "id": "angry-elimination",
   "metadata": {},
   "outputs": [
    {
     "name": "stdout",
     "output_type": "stream",
     "text": [
      "None\n",
      "Latest checkpoint was not found. Starting from epoch #0\n",
      "\n",
      "\n",
      "INITIAL_EPOCH:    0\n",
      "EPOCHS_DELTA:     1\n",
      "EPOCHS:           1\n",
      "STEPS_PER_EPOCH:  3125\n"
     ]
    }
   ],
   "source": [
    "INITIAL_EPOCH  = initial_epoch_from_latest_checkpoint()\n",
    "# EPOCHS_DELTA = 10\n",
    "EPOCHS = INITIAL_EPOCH + EPOCHS_DELTA\n",
    "STEPS_PER_EPOCH = TOTAL_RECIPES_NUM//BATCH_SIZE#1500\n",
    "\n",
    "print('\\n')\n",
    "print('INITIAL_EPOCH:   ', INITIAL_EPOCH)\n",
    "print('EPOCHS_DELTA:    ', EPOCHS_DELTA)\n",
    "print('EPOCHS:          ', EPOCHS)\n",
    "print('STEPS_PER_EPOCH: ', STEPS_PER_EPOCH)"
   ]
  },
  {
   "cell_type": "code",
   "execution_count": 58,
   "id": "binary-elite",
   "metadata": {},
   "outputs": [
    {
     "name": "stdout",
     "output_type": "stream",
     "text": [
      "{}\n"
     ]
    }
   ],
   "source": [
    "history_1 = {} if not history_1 else history_1\n",
    "print(history_1)"
   ]
  },
  {
   "cell_type": "code",
   "execution_count": 59,
   "id": "north-broadcast",
   "metadata": {},
   "outputs": [
    {
     "name": "stdout",
     "output_type": "stream",
     "text": [
      "3125/3125 [==============================] - 2291s 733ms/step - loss: 0.4502\n",
      "latest_checkpoint_path:  tmp/checkpoints/ckpt_1\n",
      "latest_checkpoint_name:  ckpt_1\n",
      "---\n",
      "\n",
      "Checkpoint files:\n",
      "  - ckpt_1.index\n",
      "  - ckpt_1.data-00000-of-00001\n",
      "---\n",
      "\n",
      "Zipped to:  ckpt_1.zip\n"
     ]
    }
   ],
   "source": [
    "history_1[INITIAL_EPOCH] = model_1.fit(\n",
    "    x=dataset_train,\n",
    "    epochs=EPOCHS,\n",
    "    steps_per_epoch=STEPS_PER_EPOCH,\n",
    "    initial_epoch=INITIAL_EPOCH,\n",
    "    callbacks=[\n",
    "        checkpoint_callback,\n",
    "        early_stopping_callback\n",
    "    ]\n",
    ")\n",
    "\n",
    "model_name = 'recipe_generation_rnn_raw_' + str(INITIAL_EPOCH) + '.h5'\n",
    "model_1.save(model_name, save_format='h5')\n",
    "\n",
    "download_latest_checkpoint(zip_only=True)"
   ]
  },
  {
   "cell_type": "code",
   "execution_count": 60,
   "id": "skilled-elevation",
   "metadata": {},
   "outputs": [
    {
     "name": "stdout",
     "output_type": "stream",
     "text": [
      "{0: <tensorflow.python.keras.callbacks.History object at 0x7fac68f84d60>}\n"
     ]
    }
   ],
   "source": [
    "print(history_1)"
   ]
  },
  {
   "cell_type": "code",
   "execution_count": 61,
   "id": "convenient-portrait",
   "metadata": {},
   "outputs": [],
   "source": [
    "# Download zipped latest checkpoint to local drive.\n",
    "# download_latest_checkpoint(zip_only=True)"
   ]
  },
  {
   "cell_type": "code",
   "execution_count": 64,
   "id": "caroline-suicide",
   "metadata": {},
   "outputs": [],
   "source": [
    "# model_name = 'recipe_generation_rnn_raw_' + str(INITIAL_EPOCH) + '.h5'\n",
    "# model_1.save(model_name, save_format='h5')"
   ]
  },
  {
   "cell_type": "code",
   "execution_count": 65,
   "id": "dried-thailand",
   "metadata": {},
   "outputs": [],
   "source": [
    "def render_training_history(training_history):\n",
    "    if 'history' in training_history:\n",
    "        loss = training_history.history['loss']\n",
    "    else:\n",
    "        loss = []\n",
    "        for initial_epoch in training_history:\n",
    "            loss += training_history[initial_epoch].history['loss']\n",
    "\n",
    "    plt.title('Loss')\n",
    "    plt.xlabel('Epoch')\n",
    "    plt.ylabel('Loss')\n",
    "    plt.plot(loss, label='Training set')\n",
    "    plt.legend()\n",
    "    plt.grid(linestyle='--', linewidth=1, alpha=0.5)\n",
    "    plt.show()"
   ]
  },
  {
   "cell_type": "code",
   "execution_count": 66,
   "id": "amino-greensboro",
   "metadata": {},
   "outputs": [
    {
     "data": {
      "image/png": "[encoded data removed]",
      "text/plain": [
       "<Figure size 432x288 with 1 Axes>"
      ]
     },
     "metadata": {
      "needs_background": "light"
     },
     "output_type": "display_data"
    }
   ],
   "source": [
    "render_training_history(history_1)"
   ]
  },
  {
   "cell_type": "code",
   "execution_count": 67,
   "id": "periodic-tradition",
   "metadata": {},
   "outputs": [
    {
     "data": {
      "text/plain": [
       "'tmp/checkpoints/ckpt_1'"
      ]
     },
     "execution_count": 67,
     "metadata": {},
     "output_type": "execute_result"
    }
   ],
   "source": [
    "tf.train.latest_checkpoint(checkpoint_dir)"
   ]
  },
  {
   "cell_type": "code",
   "execution_count": 69,
   "id": "featured-convert",
   "metadata": {},
   "outputs": [],
   "source": [
    "simplified_batch_size = 1\n",
    "\n",
    "model_1_simplified = build_model_1(vocab_size, embedding_dim, rnn_units, simplified_batch_size)\n",
    "\n",
    "model_1_simplified.load_weights(tf.train.latest_checkpoint(checkpoint_dir))\n",
    "\n",
    "model_1_simplified.build(tf.TensorShape([simplified_batch_size, None]))"
   ]
  },
  {
   "cell_type": "code",
   "execution_count": 70,
   "id": "coastal-landscape",
   "metadata": {},
   "outputs": [
    {
     "name": "stdout",
     "output_type": "stream",
     "text": [
      "Model: \"sequential_2\"\n",
      "_________________________________________________________________\n",
      "Layer (type)                 Output Shape              Param #   \n",
      "=================================================================\n",
      "embedding_2 (Embedding)      (1, 1500, 256)            26880     \n",
      "_________________________________________________________________\n",
      "lstm_2 (LSTM)                (1, 1500, 1024)           5246976   \n",
      "_________________________________________________________________\n",
      "dense_2 (Dense)              (1, 1500, 105)            107625    \n",
      "=================================================================\n",
      "Total params: 5,381,481\n",
      "Trainable params: 5,381,481\n",
      "Non-trainable params: 0\n",
      "_________________________________________________________________\n"
     ]
    }
   ],
   "source": [
    "model_1_simplified.summary()"
   ]
  },
  {
   "cell_type": "code",
   "execution_count": 71,
   "id": "usual-smart",
   "metadata": {},
   "outputs": [
    {
     "data": {
      "text/plain": [
       "(1, 1500)"
      ]
     },
     "execution_count": 71,
     "metadata": {},
     "output_type": "execute_result"
    }
   ],
   "source": [
    "model_1_simplified.input_shape"
   ]
  },
  {
   "cell_type": "code",
   "execution_count": 72,
   "id": "encouraging-wright",
   "metadata": {},
   "outputs": [],
   "source": [
    "# num_generate\n",
    "# - number of characters to generate.\n",
    "#\n",
    "# temperature\n",
    "# - Low temperatures results in more predictable text.\n",
    "# - Higher temperatures results in more surprising text.\n",
    "# - Experiment to find the best setting.\n",
    "def generate_text(model, start_string, num_generate = 1000, temperature=1.0):\n",
    "    # Evaluation step (generating text using the learned model)\n",
    "    \n",
    "#     padded_start_string = STOP_WORD_TITLE + start_string\n",
    "    padded_start_string = start_string\n",
    "\n",
    "    # Converting our start string to numbers (vectorizing).\n",
    "    input_indices = np.array(tokenizer.texts_to_sequences([padded_start_string]))\n",
    "\n",
    "    # Empty string to store our results.\n",
    "    text_generated = []\n",
    "\n",
    "    # Here batch size == 1.\n",
    "    model.reset_states()\n",
    "    for char_index in range(num_generate):\n",
    "        predictions = model(input_indices)\n",
    "        # remove the batch dimension\n",
    "        predictions = tf.squeeze(predictions, 0)\n",
    "\n",
    "        # Using a categorical distribution to predict the character returned by the model.\n",
    "        predictions = predictions / temperature\n",
    "        predicted_id = tf.random.categorical(\n",
    "            predictions,\n",
    "            num_samples=1\n",
    "        )[-1,0].numpy()\n",
    "\n",
    "        # We pass the predicted character as the next input to the model\n",
    "        # along with the previous hidden state.\n",
    "        input_indices = tf.expand_dims([predicted_id], 0)\n",
    "        \n",
    "        next_character = tokenizer.sequences_to_texts(input_indices.numpy())[0]\n",
    "\n",
    "        text_generated.append(next_character)\n",
    "\n",
    "    return (padded_start_string + ''.join(text_generated))"
   ]
  },
  {
   "cell_type": "code",
   "execution_count": 73,
   "id": "ordered-damage",
   "metadata": {},
   "outputs": [],
   "source": [
    "def generate_combinations(model):\n",
    "    recipe_length = 1000\n",
    "#     try_letters = ['', '\\n', 'A', 'B', 'C', 'O', 'L', 'Mushroom', 'Apple', 'Slow', 'Christmass', 'The', 'Banana', 'Homemade']\n",
    "    try_letters = [recipe_sequence_to_string(dataset_vectorized_padded[5]).split(\"📝\")[0] + \"📝\"]\n",
    "    try_temperature = [1.0, 0.8, 0.6, 0.4, 0.2]\n",
    "\n",
    "    for letter in try_letters:\n",
    "        for temperature in try_temperature:\n",
    "            generated_text = generate_text(\n",
    "                model,\n",
    "                start_string=letter,\n",
    "                num_generate = recipe_length,\n",
    "                temperature=temperature\n",
    "            )\n",
    "            print(f'Attempt: \"{letter}\" + {temperature}')\n",
    "            print('-----------------------------------')\n",
    "            print(generated_text)\n",
    "            print('\\n\\n')\n"
   ]
  },
  {
   "cell_type": "code",
   "execution_count": 74,
   "id": "hairy-retro",
   "metadata": {
    "scrolled": false
   },
   "outputs": [
    {
     "name": "stdout",
     "output_type": "stream",
     "text": [
      "Attempt: \"📗 Kombu Tea Grilled Chicken Thigh\n",
      "\n",
      "🥕\n",
      "\n",
      "• 2 Chicken thighs\n",
      "• 2 tsp Kombu tea\n",
      "• 1 White pepper\n",
      "\n",
      "📝\" + 1.0\n",
      "-----------------------------------\n",
      "📗 Kombu Tea Grilled Chicken Thigh\n",
      "\n",
      "🥕\n",
      "\n",
      "• 2 Chicken thighs\n",
      "• 2 tsp Kombu tea\n",
      "• 1 White pepper\n",
      "\n",
      "📝\n",
      "\n",
      "▪︎ pierce in refrigerator basil for burning.\n",
      "▪︎ You may not overmometes!\n",
      "▪︎ Stuff bottom of thigh will lightly bloiled.\n",
      "▪︎  recipe accordingly.\n",
      "▪︎ This aru awway.\n",
      "▪︎ 3.\n",
      "▪︎ Add hands, cloves and allapin' by sandwich mixture and add more vingis or some lemons with water whellybaki.\n",
      "▪︎ top with parfaian and slice roast think (about gutch or for freezer).\n",
      "▪︎ Pour or stain vigorously blend with a meal bath but flavor in the salted well in large pieces.\n",
      "▪︎ Spread butter/batches in bottom of a 2 cupful pizza triangles.\n",
      "␣␣␣␣␣␣␣␣␣␣␣␣␣␣␣␣␣␣␣␣␣␣␣␣␣␣␣␣␣␣␣␣␣␣␣␣␣␣␣␣␣␣␣␣␣␣␣␣␣␣␣␣␣␣␣␣␣␣␣␣␣␣␣␣␣␣␣␣␣␣␣␣␣␣␣␣␣␣␣␣␣␣␣␣␣␣␣␣␣␣␣␣␣␣␣␣␣␣␣␣␣␣␣␣␣␣␣␣␣␣␣␣␣␣␣␣␣␣␣␣␣␣␣␣␣␣␣␣␣␣␣␣␣␣␣␣␣␣␣␣␣␣␣␣␣␣␣␣␣␣␣␣␣␣␣␣␣␣␣␣␣␣␣␣␣␣␣␣␣␣␣␣␣␣␣␣␣␣␣␣␣␣␣␣␣␣␣␣␣␣␣␣␣␣␣␣␣␣␣␣␣␣␣␣␣␣␣␣␣␣␣␣␣␣␣␣␣␣␣␣␣␣␣␣␣␣␣␣␣␣␣␣␣␣␣␣␣␣␣␣␣␣␣␣␣␣␣␣␣␣␣␣␣␣␣␣␣␣␣␣␣␣␣␣␣␣␣␣␣␣␣␣␣␣␣␣␣␣␣␣␣␣␣␣␣␣␣␣␣␣␣␣␣␣␣␣␣␣␣␣␣␣␣␣␣␣␣␣␣␣␣␣␣␣␣␣␣␣␣␣␣␣␣␣␣␣␣␣␣␣␣␣␣␣␣␣␣␣␣␣␣␣␣␣␣␣␣␣␣␣␣␣␣␣␣␣␣␣␣␣␣␣␣␣␣␣␣␣␣␣␣␣␣␣␣␣␣␣␣␣␣␣␣␣␣␣␣␣␣␣␣␣␣␣␣␣␣␣␣␣␣␣␣␣␣␣␣␣␣␣␣␣␣␣␣␣␣␣␣␣␣␣␣␣␣␣␣␣␣␣␣␣␣␣␣␣␣␣␣␣␣␣␣␣␣␣␣␣␣␣␣␣␣␣␣␣␣␣␣␣␣␣␣␣␣␣␣␣␣␣␣␣␣␣␣␣␣␣␣␣\n",
      "\n",
      "\n",
      "\n",
      "Attempt: \"📗 Kombu Tea Grilled Chicken Thigh\n",
      "\n",
      "🥕\n",
      "\n",
      "• 2 Chicken thighs\n",
      "• 2 tsp Kombu tea\n",
      "• 1 White pepper\n",
      "\n",
      "📝\" + 0.8\n",
      "-----------------------------------\n",
      "📗 Kombu Tea Grilled Chicken Thigh\n",
      "\n",
      "🥕\n",
      "\n",
      "• 2 Chicken thighs\n",
      "• 2 tsp Kombu tea\n",
      "• 1 White pepper\n",
      "\n",
      "📝\n",
      "\n",
      "▪︎ In a bowl combine sugar, brown sugar, and salt.\n",
      "▪︎ Beat in the eggs, pea pieces, oregano, and salt.\n",
      "▪︎ Sift the dry ingredients together and process until smooth and mix.\n",
      "▪︎ Add vinegar, oil, and baking powder.\n",
      "▪︎ Stir in anutes mixture.\n",
      "▪︎ Pour into mixture better and sprinkle with cheese.\n",
      "▪︎ Let stand 5 minutes.\n",
      "▪︎ The dough is wonhting consistency, but egg white hand as well and drizzle with the apple mixture.\n",
      "▪︎ Bake for 45 minutes.\n",
      "▪︎ Drizzle with turkey and serve.\n",
      "␣␣␣␣␣␣␣␣␣␣␣␣␣␣␣␣␣␣␣␣␣␣␣␣␣␣␣␣␣␣␣␣␣␣␣␣␣␣␣␣␣␣␣␣␣␣␣␣␣␣␣␣␣␣␣␣␣␣␣␣␣␣␣␣␣␣␣␣␣␣␣␣␣␣␣␣␣␣␣␣␣␣␣␣␣␣␣␣␣␣␣␣␣␣␣␣␣␣␣␣␣␣␣␣␣␣␣␣␣␣␣␣␣␣␣␣␣␣␣␣␣␣␣␣␣␣␣␣␣␣␣␣␣␣␣␣␣␣␣␣␣␣␣␣␣␣␣␣␣␣␣␣␣␣␣␣␣␣␣␣␣␣␣␣␣␣␣␣␣␣␣␣␣␣␣␣␣␣␣␣␣␣␣␣␣␣␣␣␣␣␣␣␣␣␣␣␣␣␣␣␣␣␣␣␣␣␣␣␣␣␣␣␣␣␣␣␣␣␣␣␣␣␣␣␣␣␣␣␣␣␣␣␣␣␣␣␣␣␣␣␣␣␣␣␣␣␣␣␣␣␣␣␣␣␣␣␣␣␣␣␣␣␣␣␣␣␣␣␣␣␣␣␣␣␣␣␣␣␣␣␣␣␣␣␣␣␣␣␣␣␣␣␣␣␣␣␣␣␣␣␣␣␣␣␣␣␣␣␣␣␣␣␣␣␣␣␣␣␣␣␣␣␣␣␣␣␣␣␣␣␣␣␣␣␣␣␣␣␣␣␣␣␣␣␣␣␣␣␣␣␣␣␣␣␣␣␣␣␣␣␣␣␣␣␣␣␣␣␣␣␣␣␣␣␣␣␣␣␣␣␣␣␣␣␣␣␣␣␣␣␣␣␣␣␣␣␣␣␣␣␣␣␣␣␣␣␣␣␣␣␣␣␣␣␣␣␣␣␣␣␣␣␣␣␣␣␣␣␣␣␣␣␣␣␣␣␣␣␣␣␣␣␣␣␣␣␣␣␣␣␣␣␣␣␣␣␣␣␣␣␣␣␣␣␣␣␣␣␣␣␣␣␣␣␣␣␣␣␣␣␣␣␣␣␣␣␣␣␣␣␣␣␣␣␣␣␣␣␣␣␣␣␣␣␣␣␣␣␣␣␣␣␣␣␣␣␣␣␣␣\n",
      "\n",
      "\n",
      "\n",
      "Attempt: \"📗 Kombu Tea Grilled Chicken Thigh\n",
      "\n",
      "🥕\n",
      "\n",
      "• 2 Chicken thighs\n",
      "• 2 tsp Kombu tea\n",
      "• 1 White pepper\n",
      "\n",
      "📝\" + 0.6\n",
      "-----------------------------------\n",
      "📗 Kombu Tea Grilled Chicken Thigh\n",
      "\n",
      "🥕\n",
      "\n",
      "• 2 Chicken thighs\n",
      "• 2 tsp Kombu tea\n",
      "• 1 White pepper\n",
      "\n",
      "📝\n",
      "\n",
      "▪︎ Melt the butter in a large saucepan over low heat.\n",
      "▪︎ Add onion and garlic and cook for 5 minutes.\n",
      "▪︎ Add the pasta and cook over medium heat, stirring constantly until the chicken is cooked through.\n",
      "▪︎ Stir in the pan drippings and saute for a few minutes until the beans are well blended.\n",
      "▪︎ Add the sesame seeds and the syrup.\n",
      "▪︎ Stir in the cheese, stir, blend the egg white mixture and stir fry until the batter comes together and cook for a few minutes.\n",
      "▪︎ The skin is what you are some strain it and cold well and a white wine grape to make the mixture still warm up when it is somewhat, add the carrot and stir.\n",
      "▪︎ Stir and stir in the sugar, stirring constantly.\n",
      "▪︎ Add the sauce and stir until thickened.\n",
      "▪︎ Pour into a greased baking pan and bake for about 20 minutes or until the chicken is cooked through.\n",
      "▪︎ Remove from the oven and serve warm.\n",
      "␣␣␣␣␣␣␣␣␣␣␣␣␣␣␣␣␣␣␣␣␣␣␣␣␣␣␣␣␣␣␣␣␣␣␣␣␣␣␣␣␣␣␣␣␣␣␣␣␣␣␣␣␣␣␣␣␣␣␣␣␣␣␣␣␣␣␣␣␣␣␣␣␣␣␣␣␣␣␣␣␣␣␣␣␣␣␣␣␣␣␣␣␣␣␣␣␣␣␣␣␣␣␣␣␣␣␣␣␣␣␣␣␣␣␣␣␣␣␣␣␣␣␣␣␣␣␣␣␣␣␣␣␣␣␣␣\n",
      "\n",
      "\n",
      "\n",
      "Attempt: \"📗 Kombu Tea Grilled Chicken Thigh\n",
      "\n",
      "🥕\n",
      "\n",
      "• 2 Chicken thighs\n",
      "• 2 tsp Kombu tea\n",
      "• 1 White pepper\n",
      "\n",
      "📝\" + 0.4\n",
      "-----------------------------------\n",
      "📗 Kombu Tea Grilled Chicken Thigh\n",
      "\n",
      "🥕\n",
      "\n",
      "• 2 Chicken thighs\n",
      "• 2 tsp Kombu tea\n",
      "• 1 White pepper\n",
      "\n",
      "📝\n",
      "\n",
      "▪︎ In a medium bowl, combine the cooking spray and sugar.\n",
      "▪︎ Add the salt and pepper to taste.\n",
      "▪︎ Chill in the refrigerator until the batter is smooth.\n",
      "▪︎ You can also add the corn syrup and the carrots, and blend thoroughly.\n",
      "▪︎ Add the salt and pepper to taste.\n",
      "▪︎ Sprinkle with the salt and pepper to taste.\n",
      "▪︎ For the first layer with a bit store bought that you want to the potatoes have been slightly down it will be stiff.\n",
      "▪︎ Store in a baking dish with the spaghetti sauce or a little bit of the chicken and serve.\n",
      "␣␣␣␣␣␣␣␣␣␣␣␣␣␣␣␣␣␣␣␣␣␣␣␣␣␣␣␣␣␣␣␣␣␣␣␣␣␣␣␣␣␣␣␣␣␣␣␣␣␣␣␣␣␣␣␣␣␣␣␣␣␣␣␣␣␣␣␣␣␣␣␣␣␣␣␣␣␣␣␣␣␣␣␣␣␣␣␣␣␣␣␣␣␣␣␣␣␣␣␣␣␣␣␣␣␣␣␣␣␣␣␣␣␣␣␣␣␣␣␣␣␣␣␣␣␣␣␣␣␣␣␣␣␣␣␣␣␣␣␣␣␣␣␣␣␣␣␣␣␣␣␣␣␣␣␣␣␣␣␣␣␣␣␣␣␣␣␣␣␣␣␣␣␣␣␣␣␣␣␣␣␣␣␣␣␣␣␣␣␣␣␣␣␣␣␣␣␣␣␣␣␣␣␣␣␣␣␣␣␣␣␣␣␣␣␣␣␣␣␣␣␣␣␣␣␣␣␣␣␣␣␣␣␣␣␣␣␣␣␣␣␣␣␣␣␣␣␣␣␣␣␣␣␣␣␣␣␣␣␣␣␣␣␣␣␣␣␣␣␣␣␣␣␣␣␣␣␣␣␣␣␣␣␣␣␣␣␣␣␣␣␣␣␣␣␣␣␣␣␣␣␣␣␣␣␣␣␣␣␣␣␣␣␣␣␣␣␣␣␣␣␣␣␣␣␣␣␣␣␣␣␣␣␣␣␣␣␣␣␣␣␣␣␣␣␣␣␣␣␣␣␣␣␣␣␣␣␣␣␣␣␣␣␣␣␣␣␣␣␣␣␣␣␣␣␣␣␣␣␣␣␣␣␣␣␣␣␣␣␣␣␣␣␣␣␣␣␣␣␣␣␣␣␣␣␣␣␣␣␣␣␣␣␣␣␣␣␣␣␣␣␣␣␣␣␣␣␣␣␣␣␣␣␣␣␣␣␣␣␣␣␣␣␣␣␣␣␣␣␣␣␣␣␣␣␣␣␣␣␣␣␣␣␣␣␣␣␣␣␣␣␣␣␣␣␣\n",
      "\n",
      "\n",
      "\n",
      "Attempt: \"📗 Kombu Tea Grilled Chicken Thigh\n",
      "\n",
      "🥕\n",
      "\n",
      "• 2 Chicken thighs\n",
      "• 2 tsp Kombu tea\n",
      "• 1 White pepper\n",
      "\n",
      "📝\" + 0.2\n",
      "-----------------------------------\n",
      "📗 Kombu Tea Grilled Chicken Thigh\n",
      "\n",
      "🥕\n",
      "\n",
      "• 2 Chicken thighs\n",
      "• 2 tsp Kombu tea\n",
      "• 1 White pepper\n",
      "\n",
      "📝\n",
      "\n",
      "▪︎ Cut the potatoes into 1/2-inch pieces.\n",
      "▪︎ Place the sausage in a bowl and mix well.\n",
      "▪︎ Add the salt and pepper to taste.\n",
      "▪︎ Cover and cook on low for about 30 minutes.\n",
      "▪︎ Stir in the chicken stock and saute until the sauce is thickened.\n",
      "▪︎ Serve with the salad and serve.\n",
      "␣␣␣␣␣␣␣␣␣␣␣␣␣␣␣␣␣␣␣␣␣␣␣␣␣␣␣␣␣␣␣␣␣␣␣␣␣␣␣␣␣␣␣␣␣␣␣␣␣␣␣␣␣␣␣␣␣␣␣␣␣␣␣␣␣␣␣␣␣␣␣␣␣␣␣␣␣␣␣␣␣␣␣␣␣␣␣␣␣␣␣␣␣␣␣␣␣␣␣␣␣␣␣␣␣␣␣␣␣␣␣␣␣␣␣␣␣␣␣␣␣␣␣␣␣␣␣␣␣␣␣␣␣␣␣␣␣␣␣␣␣␣␣␣␣␣␣␣␣␣␣␣␣␣␣␣␣␣␣␣␣␣␣␣␣␣␣␣␣␣␣␣␣␣␣␣␣␣␣␣␣␣␣␣␣␣␣␣␣␣␣␣␣␣␣␣␣␣␣␣␣␣␣␣␣␣␣␣␣␣␣␣␣␣␣␣␣␣␣␣␣␣␣␣␣␣␣␣␣␣␣␣␣␣␣␣␣␣␣␣␣␣␣␣␣␣␣␣␣␣␣␣␣␣␣␣␣␣␣␣␣␣␣␣␣␣␣␣␣␣␣␣␣␣␣␣␣␣␣␣␣␣␣␣␣␣␣␣␣␣␣␣␣␣␣␣␣␣␣␣␣␣␣␣␣␣␣␣␣␣␣␣␣␣␣␣␣␣␣␣␣␣␣␣␣␣␣␣␣␣␣␣␣␣␣␣␣␣␣␣␣␣␣␣␣␣␣␣␣␣␣␣␣␣␣␣␣␣␣␣␣␣␣␣␣␣␣␣␣␣␣␣␣␣␣␣␣␣␣␣␣␣␣␣␣␣␣␣␣␣␣␣␣␣␣␣␣␣␣␣␣␣␣␣␣␣␣␣␣␣␣␣␣␣␣␣␣␣␣␣␣␣␣␣␣␣␣␣␣␣␣␣␣␣␣␣␣␣␣␣␣␣␣␣␣␣␣␣␣␣␣␣␣␣␣␣␣␣␣␣␣␣␣␣␣␣␣␣␣␣␣␣␣␣␣␣␣␣␣␣␣␣␣␣␣␣␣␣␣␣␣␣␣␣␣␣␣␣␣␣␣␣␣␣␣␣␣␣␣␣␣␣␣␣␣␣␣␣␣␣␣␣␣␣␣␣␣␣␣␣␣␣␣␣␣␣␣␣␣␣␣␣␣␣␣␣␣␣␣␣␣␣␣␣␣␣␣␣␣␣␣␣␣␣␣␣␣␣␣␣␣␣␣␣␣␣␣␣␣␣␣␣␣␣␣␣␣␣␣␣␣␣␣␣␣␣␣␣␣␣␣␣␣␣␣␣␣␣␣␣␣␣␣␣␣␣␣␣␣␣␣␣␣␣␣␣␣␣␣␣␣␣␣␣␣␣␣␣␣␣␣␣␣␣␣␣␣␣␣␣␣␣␣␣␣␣␣␣␣␣␣␣␣␣␣␣␣␣␣␣␣␣␣␣␣␣␣␣␣␣␣␣␣␣␣␣␣␣␣␣␣␣␣␣␣␣␣␣␣␣␣␣␣␣␣␣␣␣␣␣␣␣␣␣␣␣␣␣␣␣␣␣␣\n",
      "\n",
      "\n",
      "\n"
     ]
    }
   ],
   "source": [
    "generate_combinations(model_1_simplified)"
   ]
  },
  {
   "cell_type": "code",
   "execution_count": 115,
   "id": "governmental-latex",
   "metadata": {},
   "outputs": [
    {
     "name": "stdout",
     "output_type": "stream",
     "text": [
      "📗 Kombu Tea Grilled Chicken Thigh\n",
      "\n",
      "🥕\n",
      "\n",
      "• 2 Chicken thighs\n",
      "• 2 tsp Kombu tea\n",
      "• 1 White pepper\n",
      "\n",
      "📝\n"
     ]
    }
   ],
   "source": [
    "a = recipe_sequence_to_string(dataset_vectorized_padded[5]).split(\"📝\")[0] + \"📝\"\n",
    "print(a)"
   ]
  },
  {
   "cell_type": "code",
   "execution_count": null,
   "id": "olive-belize",
   "metadata": {},
   "outputs": [],
   "source": [
    "model_name = 'recipe_generation_rnn.h5'\n",
    "model_1_simplified.save(model_name, save_format='h5')"
   ]
  }
 ],
 "metadata": {
  "kernelspec": {
   "display_name": "Python 3",
   "language": "python",
   "name": "python3"
  },
  "language_info": {
   "codemirror_mode": {
    "name": "ipython",
    "version": 3
   },
   "file_extension": ".py",
   "mimetype": "text/x-python",
   "name": "python",
   "nbconvert_exporter": "python",
   "pygments_lexer": "ipython3",
   "version": "3.8.5"
  }
 },
 "nbformat": 4,
 "nbformat_minor": 5
}
