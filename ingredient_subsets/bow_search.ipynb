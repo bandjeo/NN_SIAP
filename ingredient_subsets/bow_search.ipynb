{
 "cells": [
  {
   "cell_type": "code",
   "execution_count": 1,
   "id": "historic-washer",
   "metadata": {},
   "outputs": [],
   "source": [
    "import json\n",
    "with open(\"../dataset/layers/layer4.json\", \"r\") as f:\n",
    "    dataset = json.load(f)"
   ]
  },
  {
   "cell_type": "code",
   "execution_count": 42,
   "id": "biblical-affiliation",
   "metadata": {},
   "outputs": [
    {
     "data": {
      "text/plain": [
       "['freshgarlic',\n",
       " 'blackpepper',\n",
       " 'lemonjuice',\n",
       " 'soysauce',\n",
       " 'groundbeef',\n",
       " 'cashews',\n",
       " 'pineapple',\n",
       " 'shreddedcoconut',\n",
       " 'cornstarch',\n",
       " 'mandarinorange']"
      ]
     },
     "execution_count": 42,
     "metadata": {},
     "output_type": "execute_result"
    }
   ],
   "source": [
    "dataset[5]"
   ]
  },
  {
   "cell_type": "code",
   "execution_count": 2,
   "id": "environmental-delaware",
   "metadata": {},
   "outputs": [],
   "source": [
    "# j_f = []\n",
    "# for rec in dataset:\n",
    "#     vi = []\n",
    "#     for i in range(len(rec[\"ingredients\"])):\n",
    "#         if rec[\"valid\"][i]:\n",
    "#             if rec[\"ingredients\"][i][\"text\"] not in vi:\n",
    "#                 vi.append(rec[\"ingredients\"][i][\"text\"])\n",
    "#     xx = {\"id\": rec[\"id\"], \"ingredients\": vi}\n",
    "#     j_f.append(xx)"
   ]
  },
  {
   "cell_type": "code",
   "execution_count": 3,
   "id": "abandoned-folder",
   "metadata": {},
   "outputs": [],
   "source": [
    "# ingredients_per_recipe = [x['ingredients'] for x in j_f]"
   ]
  },
  {
   "cell_type": "code",
   "execution_count": 3,
   "id": "front-edinburgh",
   "metadata": {},
   "outputs": [],
   "source": [
    "corpus = [' '.join(ingredients) for ingredients in dataset]"
   ]
  },
  {
   "cell_type": "code",
   "execution_count": 44,
   "id": "innocent-sound",
   "metadata": {},
   "outputs": [
    {
     "data": {
      "text/plain": [
       "'freshgarlic blackpepper lemonjuice soysauce groundbeef cashews pineapple shreddedcoconut cornstarch mandarinorange'"
      ]
     },
     "execution_count": 44,
     "metadata": {},
     "output_type": "execute_result"
    }
   ],
   "source": [
    "corpus[0]"
   ]
  },
  {
   "cell_type": "code",
   "execution_count": 4,
   "id": "celtic-naples",
   "metadata": {},
   "outputs": [],
   "source": [
    "# ingredients_per_recipe = [' '.join([''.join(ingredient.split()) for ingredient in recipe]) for recipe in ingredients_per_recipe]"
   ]
  },
  {
   "cell_type": "code",
   "execution_count": 5,
   "id": "impressive-drink",
   "metadata": {},
   "outputs": [
    {
     "data": {
      "text/plain": [
       "'penne cheesesauce cheddarcheese gruyerecheese driedchipotlepowder unsaltedbutter all-purposeflour milk koshersalt garlicpowder'"
      ]
     },
     "execution_count": 5,
     "metadata": {},
     "output_type": "execute_result"
    }
   ],
   "source": [
    "# ingredients_per_recipe[0]"
   ]
  },
  {
   "cell_type": "code",
   "execution_count": 5,
   "id": "black-navigator",
   "metadata": {},
   "outputs": [],
   "source": [
    "from sklearn.feature_extraction.text import CountVectorizer\n",
    "vectorizer = CountVectorizer()"
   ]
  },
  {
   "cell_type": "code",
   "execution_count": 6,
   "id": "after-class",
   "metadata": {},
   "outputs": [],
   "source": [
    "# corpus = ingredients_per_recipe\n",
    "X = vectorizer.fit_transform(corpus)"
   ]
  },
  {
   "cell_type": "code",
   "execution_count": 7,
   "id": "intended-railway",
   "metadata": {},
   "outputs": [
    {
     "data": {
      "text/plain": [
       "scipy.sparse.csr.csr_matrix"
      ]
     },
     "execution_count": 7,
     "metadata": {},
     "output_type": "execute_result"
    }
   ],
   "source": [
    "type(X)"
   ]
  },
  {
   "cell_type": "code",
   "execution_count": 8,
   "id": "furnished-meaning",
   "metadata": {},
   "outputs": [],
   "source": [
    "corpus_len = len(corpus)"
   ]
  },
  {
   "cell_type": "code",
   "execution_count": 9,
   "id": "opened-planning",
   "metadata": {},
   "outputs": [],
   "source": [
    "from scipy.sparse import find"
   ]
  },
  {
   "cell_type": "markdown",
   "id": "conscious-sperm",
   "metadata": {},
   "source": [
    "Steps:\n",
    "1. Transform all ingredients lists into vectors using bag of words technique\n",
    "2. Take user's input ingredients and turn them into a vector the same way\n",
    "3. Do a scalar product of user's ingredient vector and the corpus matrix, and take the max results to find K nearest neighbours (K nearest recipes by ingredients)\n",
    "4. Find all the overlapping ingredients from user's ingredients and the K nearest recipes' ingredients and use them as a subset"
   ]
  },
  {
   "cell_type": "code",
   "execution_count": 103,
   "id": "bulgarian-astrology",
   "metadata": {
    "scrolled": true
   },
   "outputs": [
    {
     "name": "stdout",
     "output_type": "stream",
     "text": [
      "['blackpepper', 'cornstarch', 'freshgarlic', 'garlicpowder', 'cashews', 'groundbeef', 'lemonjuice', 'mandarinorange', 'pineapple', 'shreddedcoconut', 'soysauce', 'tacochips', 'milk']\n",
      "Number of starting ingredients: 16\n",
      "Number of chosen ingredients: 13\n"
     ]
    }
   ],
   "source": [
    "import numpy as np\n",
    "n = 25\n",
    "my_ingredients_string = \"milk gruyerecheese tacochips garlicpowder cucumber seedlesswatermelon freshgarlic blackpepper lemonjuice soysauce groundbeef cashews pineapple shreddedcoconut cornstarch mandarinorange\"\n",
    "my_ingredients_list = set(my_ingredients_string.split(\" \"))\n",
    "my_vector = vectorizer.transform([my_ingredients_string])[0]\n",
    "scalar_products = X.multiply(my_vector).sum(1)\n",
    "knn = np.squeeze(np.asarray(scalar_products.reshape((corpus_len)))).argsort()[-n:]\n",
    "all_overlapping = {}\n",
    "for nearest in knn:\n",
    "    found_ingredients_indices = find(X[nearest])[1]\n",
    "    for index in found_ingredients_indices:\n",
    "        ingredient = vectorizer.get_feature_names()[index]\n",
    "        if ingredient in my_ingredients_list:\n",
    "            all_overlapping[ingredient] = all_overlapping.get(ingredient, 0) + 1\n",
    "best_ingredients = list(all_overlapping.keys())\n",
    "print(best_ingredients)\n",
    "print(f'Number of starting ingredients: {len(my_ingredients_list)}')\n",
    "print(f'Number of chosen ingredients: {len(best_ingredients)}')"
   ]
  },
  {
   "cell_type": "markdown",
   "id": "smart-savage",
   "metadata": {},
   "source": [
    "### Evaluating the algorithm"
   ]
  },
  {
   "cell_type": "code",
   "execution_count": 118,
   "id": "fluid-translator",
   "metadata": {},
   "outputs": [
    {
     "name": "stdout",
     "output_type": "stream",
     "text": [
      "====================================================================================================\n",
      "n:  10 Average fscore:  0.8653657574309749\n",
      "====================================================================================================\n",
      "n:  15 Average fscore:  0.8769241796850494\n",
      "====================================================================================================\n",
      "n:  20 Average fscore:  0.8875547158155855\n",
      "====================================================================================================\n",
      "n:  25 Average fscore:  0.9053653365673826\n",
      "====================================================================================================\n",
      "n:  30 Average fscore:  0.9005479317499778\n",
      "====================================================================================================\n",
      "n:  35 Average fscore:  0.8962189274209734\n",
      "====================================================================================================\n",
      "n:  40 Average fscore:  0.8922334201745967\n",
      "====================================================================================================\n",
      "n:  45 Average fscore:  0.8962016741428507\n"
     ]
    }
   ],
   "source": [
    "test_data = [\n",
    "    {'all_ingredients': ['groundwalnuts', 'powderedsugar', 'sugar', 'vanilla', 'cookie', 'water', 'rum', 'potato', 'cucumber', 'pumpkinseeds'],\n",
    "     'subset': ['groundwalnuts', 'powderedsugar', 'sugar', 'vanilla', 'cookie', 'water', 'rum']},\n",
    "    {'all_ingredients': ['bakingsoda', 'vanilla', 'cookie', 'sugar', 'water', 'buttermilk', 'Crisco', 'milk', 'salt', 'vanilla', 'egg', 'flour', 'meat', 'mayonnaise', 'pear'],\n",
    "     'subset': ['bakingsoda', 'vanilla', 'cookie', 'sugar', 'water', 'buttermilk', 'Crisco', 'milk', 'salt', 'vanilla', 'egg', 'flour']},\n",
    "    {'all_ingredients': ['egg', 'milk', 'tomatojuice', 'flour', 'oats', 'salt', 'cheese', 'redpepper', 'Mexican-stylecorn', 'pepper', 'onion', 'meat', 'chilipowder', 'butter', 'masala', 'honey', 'kiwi', 'sushirice'],\n",
    "     'subset': ['egg', 'milk', 'tomatojuice', 'flour', 'oats', 'salt', 'cheese', 'redpepper', 'Mexican-stylecorn', 'pepper', 'onion', 'meat', 'chilipowder', 'butter']},\n",
    "    {'all_ingredients': ['rice', 'milk', 'egg', 'cheese', 'oregano', 'broccoli', 'pepper', 'onion', 'cheese', 'garlicpowder', 'basil', 'butter', 'mincemeat', 'mahimahi', 'snails', 'saltwater'],\n",
    "     'subset': ['rice', 'milk', 'egg', 'cheese', 'oregano', 'broccoli', 'pepper', 'onion', 'cheese', 'garlicpowder', 'basil', 'butter']},\n",
    "    {'all_ingredients': ['lime', 'tomyampaste', 'fishsauce', 'stock', 'salsa', 'kaffirlime', 'lemongrass', 'coriander', 'basil', 'garlic', 'mushroom', 'yam', 'tamale', 'chocolateextract', 'ale'],\n",
    "     'subset': ['lime', 'tomyampaste', 'fishsauce', 'stock', 'salsa', 'kaffirlime', 'lemongrass', 'coriander', 'basil', 'garlic', 'mushroom']},\n",
    "    {'all_ingredients': ['milk', 'sugarsyrup', 'honey', 'water', 'gelatin', 'shrimp', 'grain', 'soyflour', 'kale', 'tortellini'],\n",
    "     'subset': ['milk', 'sugarsyrup', 'honey', 'water', 'gelatin']},\n",
    "    {'all_ingredients': ['molasses', 'bakingsoda', 'salt', 'whitesugar', 'flour', 'water', 'raisins', 'fruitcocktail', 'Crisco', 'groundcloves', 'egg', 'vanilla', 'cinnamon', 'nuts', 'mayonnaise', ],\n",
    "     'subset': ['molasses', 'bakingsoda', 'salt', 'whitesugar', 'flour', 'water', 'raisins', 'fruitcocktail', 'Crisco', 'groundcloves', 'egg', 'vanilla', 'cinnamon', 'nuts']},\n",
    "    {'all_ingredients': ['carrot', 'fryer', 'sugar', 'coconutoil', 'ginger', 'garlic', 'celery', 'coconutaminos', 'pepper', 'tapiocaflour', 'rawcashews', 'greenonion', 'zucchini', 'ricevinegar', 'ketchup', 'salsa', 'cornstarch', 'marinarasauce', 'agar', 'Guinnessdraught', 'duckling', 'raspberrybrandy'],\n",
    "     'subset': ['carrot', 'fryer', 'sugar', 'coconutoil', 'ginger', 'garlic', 'celery', 'coconutaminos', 'pepper', 'tapiocaflour', 'rawcashews', 'greenonion', 'zucchini', 'ricevinegar', 'ketchup', 'salsa']},\n",
    "    {'all_ingredients': ['vinegar', 'pepper', 'parsley', 'tuna', 'potato', 'onion', 'oliveoil', 'mint', 'water', 'roma', 'garlic', 'salt', 'honey', 'sweetapple', 'porksteak', 'gingerbeer', 'starch', 'lemoncookies'],\n",
    "     'subset': ['vinegar', 'pepper', 'parsley', 'tuna', 'potato', 'onion', 'oliveoil', 'mint', 'water', 'roma', 'garlic', 'salt']},\n",
    "    {'all_ingredients': ['roma', 'bacon', 'oliveoil', 'mushroom', 'roma', 'plainflour', 'fryer', 'parsley', 'sourcream', 'onion', 'pepper', 'garlic', 'chocolatestars', 'honey', 'ale', 'mustardpaste', 'caramelcorn'],\n",
    "     'subset': ['roma', 'bacon', 'oliveoil', 'mushroom', 'roma', 'plainflour', 'fryer', 'parsley', 'sourcream', 'onion', 'pepper', 'garlic']},\n",
    "    \n",
    "]\n",
    "\n",
    "\n",
    "\n",
    "\n",
    "\n",
    "verbose = False\n",
    "for n in range(10, 50, 5):\n",
    "#     n = 20\n",
    "    avg_precision = 0.\n",
    "    avg_recall = 0.\n",
    "    avg_fscore = 0.\n",
    "    for test_case in test_data:\n",
    "        ingredients_list = test_case['all_ingredients']\n",
    "        ingredients_string = \" \".join(ingredients_list)\n",
    "        vector = vectorizer.transform([ingredients_string])[0]\n",
    "        scalar_products = X.multiply(vector).sum(1)\n",
    "        knn = np.squeeze(np.asarray(scalar_products.reshape((corpus_len)))).argsort()[-n:]\n",
    "        all_overlapping = {}\n",
    "        for nearest in knn:\n",
    "            found_ingredients_indices = find(X[nearest])[1]\n",
    "            for index in found_ingredients_indices:\n",
    "                ingredient = vectorizer.get_feature_names()[index]\n",
    "                if ingredient in ingredients_list:\n",
    "                    all_overlapping[ingredient] = all_overlapping.get(ingredient, 0) + 1\n",
    "        largest_cluster = list(all_overlapping.keys())\n",
    "\n",
    "        if verbose:\n",
    "            print('='*100)\n",
    "            print('All test ingredients: ', test_case['all_ingredients'])\n",
    "            print('Expected subset: ', test_case['subset'])\n",
    "            print('Actual subset: ', largest_cluster)\n",
    "        precision = sum(1 if ingredient in test_case['subset'] else 0 for ingredient in largest_cluster)/len(largest_cluster)\n",
    "        recall = sum(1 if ingredient in largest_cluster else 0 for ingredient in test_case['subset'])/len(test_case['subset'])\n",
    "        fscore = 2 * (precision * recall) / (precision + recall)\n",
    "#         print('Precision: ', precision, 'Recall: ', recall)\n",
    "        avg_precision += precision\n",
    "        avg_recall += recall\n",
    "        avg_fscore += fscore\n",
    "    print('='*100)\n",
    "    avg_precision /= len(test_data)\n",
    "    avg_recall /= len(test_data)\n",
    "    avg_fscore /= len(test_data)\n",
    "    # print('Average precision: ', avg_precision)\n",
    "    # print('Average recall: ', avg_recall)\n",
    "    print('n: ', n, 'Average fscore: ', avg_fscore)\n",
    "#     print('Average fscore: ', avg_fscore)"
   ]
  },
  {
   "cell_type": "markdown",
   "id": "south-darwin",
   "metadata": {},
   "source": [
    "### Trying to find a smarter way to cut off unnecessary ingredients"
   ]
  },
  {
   "cell_type": "code",
   "execution_count": 50,
   "id": "waiting-turkish",
   "metadata": {},
   "outputs": [],
   "source": [
    "#create random sets of ingredients\n",
    "all_ingredients = set()\n",
    "for ingredients in dataset:\n",
    "    for ingredient in ingredients:\n",
    "        all_ingredients.add(ingredient)"
   ]
  },
  {
   "cell_type": "code",
   "execution_count": 65,
   "id": "professional-statement",
   "metadata": {},
   "outputs": [],
   "source": [
    "import random\n",
    "ingredients_subsets = []\n",
    "n_subsets = 10\n",
    "subset_length = 20\n",
    "for _ in range(n_subsets):\n",
    "#     subset_length = random.randint(12, 30)\n",
    "    ingredients_subsets.append(random.sample(all_ingredients, subset_length))"
   ]
  },
  {
   "cell_type": "code",
   "execution_count": 70,
   "id": "competent-photographer",
   "metadata": {
    "collapsed": true
   },
   "outputs": [
    {
     "data": {
      "text/plain": [
       "[['violets',\n",
       "  'frozenmangoyogurt',\n",
       "  'recipebasicmeatballs',\n",
       "  'driedmissionfigs',\n",
       "  'carp',\n",
       "  'spaghetti',\n",
       "  'goldenrum',\n",
       "  'goatstewmeat',\n",
       "  'raspberry-flavoredsparklingwater',\n",
       "  'beanmedley',\n",
       "  'ryebreadcrumbs',\n",
       "  'idahopotato',\n",
       "  'campanellepasta',\n",
       "  'vanillaslimfastpowder',\n",
       "  'drymilk',\n",
       "  'marlin',\n",
       "  'lye',\n",
       "  'greenteavodka',\n",
       "  'KNUDSENSourCream',\n",
       "  'OSCARMAYERBacon'],\n",
       " ['speltberries',\n",
       "  'PacePicanteSauce',\n",
       "  'sweetmarjoram',\n",
       "  \"confectioner'scoating\",\n",
       "  'raspberryvinegar',\n",
       "  'edibleorchid',\n",
       "  'patnarice',\n",
       "  'Criscocookingoil',\n",
       "  \"sachetd'espices\",\n",
       "  'slicedkosherpickles',\n",
       "  'farlsodabread',\n",
       "  'Portugueserolls',\n",
       "  'vanilla-flavoredsoymilk',\n",
       "  'soybeansauce',\n",
       "  'wackymacpasta',\n",
       "  'reduced-sugarorangemarmalade',\n",
       "  'low-sodiumtriscuits',\n",
       "  'brewedtea',\n",
       "  'mincedclams',\n",
       "  'Bernsteinscheesefantasticosaladdressing'],\n",
       " ['pastasaucewithmushroomsandolives',\n",
       "  'lambshank',\n",
       "  'vanillasugar',\n",
       "  'oreganoflakes',\n",
       "  'roastedanchochiles',\n",
       "  'gluten-freehamburgerbuns',\n",
       "  'hazelnut-flavoredliquidcoffeecreamer',\n",
       "  'pickledcabbage',\n",
       "  'pastryfordouble-crustpie',\n",
       "  'mangochutney',\n",
       "  'baylaurelpowder',\n",
       "  'sweetredonions',\n",
       "  'vegetables',\n",
       "  'wholegrainwheatbread',\n",
       "  'sugarfree7-Up',\n",
       "  'toast',\n",
       "  'poppyseedrolls',\n",
       "  'asparagus',\n",
       "  'LaughingCowlightgarlicandherbcheese',\n",
       "  'mocha-flavoredcoffee'],\n",
       " ['poppedcorn',\n",
       "  'pinacoladasorbet',\n",
       "  'applesyrup',\n",
       "  'fideos',\n",
       "  'ryechips',\n",
       "  'elderberryjuice',\n",
       "  'CocoaPuffscereal',\n",
       "  'purpleasparagus',\n",
       "  'pineapplesyrup',\n",
       "  'mangobutter',\n",
       "  'chickenbrothwithroastedgarlic',\n",
       "  'dipmix',\n",
       "  'coconutrum',\n",
       "  'garnetyams',\n",
       "  'leanporkchop',\n",
       "  'hickorywoodsmokechips',\n",
       "  'cambozolacheese',\n",
       "  'lowfatchocolatewafercookies',\n",
       "  'vegetarianpoultryseasoning',\n",
       "  'spinachtortilla'],\n",
       " ['unsweetenedinstanttea',\n",
       "  'cornthins',\n",
       "  'wholewheattoast',\n",
       "  'otherliqueur',\n",
       "  'garlicheads',\n",
       "  'unsaltedcrackers',\n",
       "  'pippinapple',\n",
       "  'low-fatmascarponecheese',\n",
       "  'citrus-infusedrum',\n",
       "  'distilledspirits',\n",
       "  'caperberries',\n",
       "  'herb-flavoredvinegar',\n",
       "  'drylow-sugarpectin',\n",
       "  'cannedbraisedsteakandonions',\n",
       "  'watermelonschnapps',\n",
       "  'meatpieces',\n",
       "  'pompano',\n",
       "  'sweetRussianmustard',\n",
       "  'toast',\n",
       "  'fishstockcube'],\n",
       " ['TacoBellhomeoriginalstacodinnerkit',\n",
       "  'venisonheart',\n",
       "  'lowsodiumgreenbeans',\n",
       "  'Fruit-FreshProduceProtector',\n",
       "  'sausagegravy',\n",
       "  'wahoofillets',\n",
       "  'onionsoup',\n",
       "  'SmartBalanceOmegaPlus',\n",
       "  'kalonji',\n",
       "  'hotdogrelish',\n",
       "  'moroccanseasoning',\n",
       "  'sirloinstripsteak',\n",
       "  'wholewheatpastrydough',\n",
       "  'cookedconvertedrice',\n",
       "  'petits-grissnails',\n",
       "  'cajunmustard',\n",
       "  'shrimpstock',\n",
       "  'grounddriedarbolchilepeppers',\n",
       "  'carbonatedwater',\n",
       "  'sugar-freegingerale'],\n",
       " ['tagliolini',\n",
       "  'pistachioicecream',\n",
       "  'bengalifive-spicemix',\n",
       "  'day-oldwhitebread',\n",
       "  'applecider',\n",
       "  'unsweetenedfruitjuice',\n",
       "  'frozenbroccolispear',\n",
       "  \"Lando'LakesButter\",\n",
       "  'powderedchocolatesoyproteinconcentrate',\n",
       "  'sharpcheese',\n",
       "  \"McCormick'sseasoningsalt\",\n",
       "  'vealloin',\n",
       "  'driedpinquitobeans',\n",
       "  'GeorgeWashingtonbroth',\n",
       "  'anchoviespackedinoil',\n",
       "  'chocolate-coveredwafercandybars',\n",
       "  'bonelessvealsteaks',\n",
       "  'goldenbrownsugar',\n",
       "  'squash',\n",
       "  'pineapplesalsa'],\n",
       " ['driedfennel',\n",
       "  'empanadawrappers',\n",
       "  'southwestchipotleseasoning',\n",
       "  'apricotmarmalade',\n",
       "  'sugar-freesweetenedcondensedmilk',\n",
       "  'vanillabark',\n",
       "  'driedprune',\n",
       "  '10-minuteSuccessrice',\n",
       "  'peascornandcarrotmix',\n",
       "  'fontina',\n",
       "  'bubblegum',\n",
       "  'turbinadosugar',\n",
       "  'RiceCrumbs',\n",
       "  'huntsroastedgarlicandonionspaghettisauce',\n",
       "  'salmonskin',\n",
       "  'aniseextract',\n",
       "  'imitationbutter',\n",
       "  'soymilk',\n",
       "  'fruitessence',\n",
       "  'strawberrywine'],\n",
       " ['icecreamcones',\n",
       "  'banana',\n",
       "  'raspberryseltzerwater',\n",
       "  'Nestlemilkchocolateandcaramelswirledmorsels',\n",
       "  'ryeberries',\n",
       "  'celeriac',\n",
       "  'frozenlobstertails',\n",
       "  'silverbeet',\n",
       "  'umeboshiplumpaste',\n",
       "  'steelcutoats',\n",
       "  'cookiemix',\n",
       "  'mungdal',\n",
       "  'mortadella',\n",
       "  'olivesalad',\n",
       "  'fat-freehazelnut-flavorednondairyliquidcoffeecreamer',\n",
       "  'saltinecrackers',\n",
       "  'terrapins',\n",
       "  'milk',\n",
       "  'stripedbass',\n",
       "  \"baker'sunsweetenedchocolatesquare\"],\n",
       " ['ryecrackers',\n",
       "  'granulatedonion',\n",
       "  'driedshallots',\n",
       "  'orange-pineappleJell-O',\n",
       "  'wasabipeas',\n",
       "  'crabstick',\n",
       "  'vegetarianpoultryseasoning',\n",
       "  'Weetabix',\n",
       "  'unsaltednuts',\n",
       "  'matzofarfel',\n",
       "  'Caribbean-stylehotsauce',\n",
       "  'headsoflettuce',\n",
       "  'veganpesto',\n",
       "  'cinnamonrolls',\n",
       "  'ranchfiestadipmix',\n",
       "  'garlicandherbgoatcheese',\n",
       "  'roastedgarlicandredpepperspicemix',\n",
       "  'picklingsalt',\n",
       "  'newspaper',\n",
       "  'marlinsteak']]"
      ]
     },
     "execution_count": 70,
     "metadata": {},
     "output_type": "execute_result"
    }
   ],
   "source": [
    "ingredients_subsets"
   ]
  },
  {
   "cell_type": "code",
   "execution_count": 72,
   "id": "canadian-representation",
   "metadata": {},
   "outputs": [],
   "source": [
    "import random"
   ]
  },
  {
   "cell_type": "code",
   "execution_count": 68,
   "id": "greenhouse-indonesia",
   "metadata": {},
   "outputs": [
    {
     "data": {
      "image/png": "[encoded data removed]",
      "text/plain": [
       "<Figure size 432x288 with 1 Axes>"
      ]
     },
     "metadata": {
      "needs_background": "light"
     },
     "output_type": "display_data"
    }
   ],
   "source": [
    "import matplotlib.pyplot as plt\n",
    "\n",
    "plt.bar(list(range(subset_length)), num_occurrences/n_subsets)\n",
    "plt.ylabel('Occurrences')\n",
    "plt.show()"
   ]
  },
  {
   "cell_type": "code",
   "execution_count": 82,
   "id": "smaller-helena",
   "metadata": {},
   "outputs": [
    {
     "data": {
      "text/plain": [
       "[['lemonjelly',\n",
       "  'chimichurrisauce',\n",
       "  'frozenblackenedcorn',\n",
       "  'wholetoastedhazelnuts',\n",
       "  'cubanellepepper',\n",
       "  'dryredpeppers',\n",
       "  \"Campbell'sReadyToServeminestronesoup\",\n",
       "  'hashbrownpatty',\n",
       "  'tarragon',\n",
       "  'pastasaucewithmushrooms',\n",
       "  'balkanstyleyogurt',\n",
       "  'potatopierogi',\n",
       "  'chilistarter',\n",
       "  'instantmaltedmilkpowder',\n",
       "  'cornflakes',\n",
       "  \"Durkee'ssauce\",\n",
       "  'garlic',\n",
       "  'sourcreamsubstitute',\n",
       "  'tamarindpowder',\n",
       "  'garlic-flavormashedpotatoes'],\n",
       " ['grounddriedchile',\n",
       "  'tamarindnectar',\n",
       "  'hotketchup',\n",
       "  'cremefraiche',\n",
       "  'bakedbeanswithmolasses',\n",
       "  'cipollinionion',\n",
       "  'greenolives',\n",
       "  'mozzarella-provolonecheeseblend',\n",
       "  'rose-scentedgeraniumleaves',\n",
       "  'beefeyeround',\n",
       "  'tamarindpods',\n",
       "  'monsterenergydrink',\n",
       "  'sugar-freeshortbreadcookies',\n",
       "  'yellowtailfishfillets',\n",
       "  'glycerin',\n",
       "  'Portugueserolls',\n",
       "  'freshmango',\n",
       "  'babyleeks',\n",
       "  'apricothalvesinlightsyrup',\n",
       "  'dumplingwrappers'],\n",
       " ['ouzoliqueur',\n",
       "  'prunefilling',\n",
       "  'cappuccino-flavoredyogurt',\n",
       "  'Lifesaverscandies',\n",
       "  'icewater',\n",
       "  'no-salt-addedpeas',\n",
       "  'chocolateturtleChexmix',\n",
       "  'parsleysprigs',\n",
       "  'peasantbread',\n",
       "  'freshonions',\n",
       "  'attaflour',\n",
       "  'barbecuebakedbeans',\n",
       "  \"Europe'sBestCaribbeanTreasurefrozenfruit\",\n",
       "  'Coronabeer',\n",
       "  \"Mott'sapplesauce\",\n",
       "  'sprats',\n",
       "  'instantrice',\n",
       "  'vanillateabags',\n",
       "  'matzohcracker',\n",
       "  'blackcurrantnectar'],\n",
       " ['groundroastedchicory',\n",
       "  'sweetenedcondensedcoconutmilk',\n",
       "  'hormelchili',\n",
       "  'sweetbrownrice',\n",
       "  'capsicumsalsa',\n",
       "  'jalapenojackcheese',\n",
       "  'wensleydalecheese',\n",
       "  'groundwildboar',\n",
       "  'potash',\n",
       "  'anthotyrocheese',\n",
       "  'chickengizzard',\n",
       "  'herbalsaltsubstitute',\n",
       "  'cardoon',\n",
       "  'crunchysweetenedcornandoatcereal',\n",
       "  'fudgecakemix',\n",
       "  'cinnamonstick',\n",
       "  'augratinpotatoes',\n",
       "  'blackcurrantnectar',\n",
       "  'BrummelandBrownspread',\n",
       "  'chileconqueso'],\n",
       " ['saltcodfish',\n",
       "  'gluten-freecereal',\n",
       "  'pigsears',\n",
       "  'knackwurstoffrankfurter',\n",
       "  'condensedtomatosoupwithbasil&oregano',\n",
       "  'Portuguesebread',\n",
       "  'frozenpearlonions',\n",
       "  'mintchocolatesquare',\n",
       "  'miniaturecorncobs',\n",
       "  'oolongteabags',\n",
       "  'lowsugarjam',\n",
       "  'mushroomstems',\n",
       "  'pickledpeppers',\n",
       "  'yellowsweetbellpepper',\n",
       "  \"Lawry'sPinchofHerbs\",\n",
       "  'nassauroyale',\n",
       "  'fat-freebalsamicvinegar',\n",
       "  'beefshank',\n",
       "  'butter-flavoredcookingspray',\n",
       "  'milkcoffeebiscuits'],\n",
       " ['reduced-fatmontereyjackandcheddarcheeseblend',\n",
       "  'praguepowder',\n",
       "  'onionsincreamsauce',\n",
       "  'powderedeggwhites',\n",
       "  'blackcherrysoda',\n",
       "  'LaughingCowlightgarlicandherbcheese',\n",
       "  \"Hellmann'slightmayonnaise\",\n",
       "  'groundsage',\n",
       "  'chickengumbosoup',\n",
       "  'vealstock',\n",
       "  'Goyamojojuice',\n",
       "  'goldschlager',\n",
       "  'fishstockgranules',\n",
       "  'macadamianutliqueur',\n",
       "  'organicfreerangefatfreechickenbroth',\n",
       "  'chocolatemoussemix',\n",
       "  'cannedshrimp',\n",
       "  'steaksauce',\n",
       "  'caster',\n",
       "  'mascarpone'],\n",
       " ['AlmondBreezenon-dairybeverage',\n",
       "  'whiskey',\n",
       "  'woodchuck',\n",
       "  'fat-freehotdogs',\n",
       "  'porksirloinroast',\n",
       "  'piecrustmix',\n",
       "  'peachbabyfood',\n",
       "  'goosebreast',\n",
       "  'sweetenedvanillaalmondmilk',\n",
       "  'brownandserverolls',\n",
       "  'gyozaskins',\n",
       "  'Hersheychocolatekiss',\n",
       "  'broadbeans',\n",
       "  'pirouettecookies',\n",
       "  'reducedfatmargarine',\n",
       "  'veganbittersweetchocolatechips',\n",
       "  'blackenedfishseasoning',\n",
       "  'Italianplumtomato',\n",
       "  'freshsmallshrimp',\n",
       "  'potatosoupmix'],\n",
       " ['low-caloriebarbecuesauce',\n",
       "  'HouseAutryseafoodbreader',\n",
       "  'saltcodfish',\n",
       "  'allbeefwiener',\n",
       "  'freshcream',\n",
       "  'littleneckclams',\n",
       "  'gluten-freequickoats',\n",
       "  'headofcabbage',\n",
       "  'Coffee-matefatfreepowder',\n",
       "  'olivejuice',\n",
       "  'porkshanks',\n",
       "  'peach',\n",
       "  'whitetoast',\n",
       "  'freshfrenchbeans',\n",
       "  'lentilsoup',\n",
       "  'SaladEleganceseasoningmix',\n",
       "  'paninibread',\n",
       "  'baconcheddarcheese',\n",
       "  'beefbouillonconcentrate',\n",
       "  'peachfruitspread'],\n",
       " ['nonfatchocolatemilk',\n",
       "  'arak',\n",
       "  'bananababyfood',\n",
       "  'raweggyolks',\n",
       "  'turkeydrumsticks',\n",
       "  'silkleaves',\n",
       "  'nonstickbakingspraywithflour',\n",
       "  'poppyseeddressing',\n",
       "  'porkandherbsausages',\n",
       "  'cannedpeachhalves',\n",
       "  'saltine',\n",
       "  'slicedkosherpickles',\n",
       "  'cabernetsauvignonwine',\n",
       "  'tamarindpods',\n",
       "  'non-fatnon-dairycreamer',\n",
       "  'coffeefrozenyogurt',\n",
       "  '92%leangroundbeef',\n",
       "  'beefstockpaste',\n",
       "  'reduced-fatsausage',\n",
       "  'ouzoliqueur'],\n",
       " ['bariumchloride',\n",
       "  'chickenfeet',\n",
       "  'carbonatedbeverages',\n",
       "  'roasteddelichicken',\n",
       "  'honeybranmuffinmix',\n",
       "  'hotnewmexicochilies',\n",
       "  'creamydillmustard',\n",
       "  'colorpowder',\n",
       "  'tartcookingapple',\n",
       "  'Italiansyrup',\n",
       "  'palak',\n",
       "  'greencauliflower',\n",
       "  'MINUTEWhiteRice',\n",
       "  'poultry',\n",
       "  'ricebran',\n",
       "  'vealshank',\n",
       "  'vitamins',\n",
       "  'pickledsweetredpeppers',\n",
       "  'spelt',\n",
       "  'featherweightbakingpowder']]"
      ]
     },
     "execution_count": 82,
     "metadata": {},
     "output_type": "execute_result"
    }
   ],
   "source": [
    "ingredients_subsets = []\n",
    "n_subsets = 10\n",
    "subset_length = 20\n",
    "for _ in range(n_subsets):\n",
    "#     subset_length = random.randint(12, 30)\n",
    "    ingredients_subsets.append(random.sample(all_ingredients, subset_length))\n",
    "ingredients_subsets"
   ]
  },
  {
   "cell_type": "code",
   "execution_count": 95,
   "id": "boolean-birmingham",
   "metadata": {},
   "outputs": [
    {
     "name": "stdout",
     "output_type": "stream",
     "text": [
      "[10, 8, 7, 5, 5, 3, 2, 2, 1]\n",
      "[4, 3, 3, 3, 2, 1, 1]\n",
      "[10, 8, 6, 4, 4, 2, 1, 1]\n",
      "[4, 3, 3, 2, 2, 1, 1, 1, 1, 1, 1]\n",
      "[4, 4, 3, 2, 2, 1, 1]\n",
      "[2, 1, 1, 1, 1, 1]\n",
      "[5, 3, 3, 2, 2, 2, 1, 1]\n",
      "[3, 3, 2, 2, 1, 1, 1, 1]\n",
      "[7, 6, 5, 3, 2, 2, 2, 1, 1, 1, 1, 1]\n",
      "[8, 7, 5, 1, 1, 1]\n",
      "[11, 7, 7, 4, 4, 2, 1, 1, 1, 1, 1, 1]\n",
      "[2, 1, 1, 1]\n",
      "[4, 3, 3, 2, 2, 1, 1, 1]\n"
     ]
    },
    {
     "ename": "KeyboardInterrupt",
     "evalue": "",
     "output_type": "error",
     "traceback": [
      "\u001b[0;31m---------------------------------------------------------------------------\u001b[0m",
      "\u001b[0;31mKeyboardInterrupt\u001b[0m                         Traceback (most recent call last)",
      "\u001b[0;32m<ipython-input-95-2f16c016f878>\u001b[0m in \u001b[0;36m<module>\u001b[0;34m\u001b[0m\n\u001b[1;32m     17\u001b[0m         \u001b[0mfound_ingredients_indices\u001b[0m \u001b[0;34m=\u001b[0m \u001b[0mfind\u001b[0m\u001b[0;34m(\u001b[0m\u001b[0mX\u001b[0m\u001b[0;34m[\u001b[0m\u001b[0mnearest\u001b[0m\u001b[0;34m]\u001b[0m\u001b[0;34m)\u001b[0m\u001b[0;34m[\u001b[0m\u001b[0;36m1\u001b[0m\u001b[0;34m]\u001b[0m\u001b[0;34m\u001b[0m\u001b[0;34m\u001b[0m\u001b[0m\n\u001b[1;32m     18\u001b[0m         \u001b[0;32mfor\u001b[0m \u001b[0mindex\u001b[0m \u001b[0;32min\u001b[0m \u001b[0mfound_ingredients_indices\u001b[0m\u001b[0;34m:\u001b[0m\u001b[0;34m\u001b[0m\u001b[0;34m\u001b[0m\u001b[0m\n\u001b[0;32m---> 19\u001b[0;31m             \u001b[0mingredient\u001b[0m \u001b[0;34m=\u001b[0m \u001b[0mvectorizer\u001b[0m\u001b[0;34m.\u001b[0m\u001b[0mget_feature_names\u001b[0m\u001b[0;34m(\u001b[0m\u001b[0;34m)\u001b[0m\u001b[0;34m[\u001b[0m\u001b[0mindex\u001b[0m\u001b[0;34m]\u001b[0m\u001b[0;34m\u001b[0m\u001b[0;34m\u001b[0m\u001b[0m\n\u001b[0m\u001b[1;32m     20\u001b[0m             \u001b[0;32mif\u001b[0m \u001b[0mingredient\u001b[0m \u001b[0;32min\u001b[0m \u001b[0mmy_ingredients_list\u001b[0m\u001b[0;34m:\u001b[0m\u001b[0;34m\u001b[0m\u001b[0;34m\u001b[0m\u001b[0m\n\u001b[1;32m     21\u001b[0m                 \u001b[0mall_overlapping\u001b[0m\u001b[0;34m[\u001b[0m\u001b[0mingredient\u001b[0m\u001b[0;34m]\u001b[0m \u001b[0;34m=\u001b[0m \u001b[0mall_overlapping\u001b[0m\u001b[0;34m.\u001b[0m\u001b[0mget\u001b[0m\u001b[0;34m(\u001b[0m\u001b[0mingredient\u001b[0m\u001b[0;34m,\u001b[0m \u001b[0;36m0\u001b[0m\u001b[0;34m)\u001b[0m \u001b[0;34m+\u001b[0m \u001b[0;36m1\u001b[0m\u001b[0;34m\u001b[0m\u001b[0;34m\u001b[0m\u001b[0m\n",
      "\u001b[0;32m~/.pyenv/versions/3.8.7/envs/recipes/lib/python3.8/site-packages/sklearn/feature_extraction/text.py\u001b[0m in \u001b[0;36mget_feature_names\u001b[0;34m(self)\u001b[0m\n\u001b[1;32m   1297\u001b[0m         \u001b[0mself\u001b[0m\u001b[0;34m.\u001b[0m\u001b[0m_check_vocabulary\u001b[0m\u001b[0;34m(\u001b[0m\u001b[0;34m)\u001b[0m\u001b[0;34m\u001b[0m\u001b[0;34m\u001b[0m\u001b[0m\n\u001b[1;32m   1298\u001b[0m \u001b[0;34m\u001b[0m\u001b[0m\n\u001b[0;32m-> 1299\u001b[0;31m         return [t for t, i in sorted(self.vocabulary_.items(),\n\u001b[0m\u001b[1;32m   1300\u001b[0m                                      key=itemgetter(1))]\n\u001b[1;32m   1301\u001b[0m \u001b[0;34m\u001b[0m\u001b[0m\n",
      "\u001b[0;31mKeyboardInterrupt\u001b[0m: "
     ]
    }
   ],
   "source": [
    "import numpy as np\n",
    "ingredients_subsets = []\n",
    "n_subsets = 100\n",
    "subset_length = 20\n",
    "for _ in range(n_subsets):\n",
    "#     subset_length = random.randint(12, 30)\n",
    "    ingredients_subsets.append(random.sample(all_ingredients, subset_length))\n",
    "n = 20\n",
    "num_occurrences = np.zeros(20)\n",
    "for j, ingredients_list in enumerate(ingredients_subsets):\n",
    "    ingredients_string = \" \".join(ingredients_list)\n",
    "    vector = vectorizer.transform([ingredients_string])[0]\n",
    "    scalar_products = X.multiply(vector).sum(1)\n",
    "    knn = np.squeeze(np.asarray(scalar_products.reshape((corpus_len)))).argsort()[-n:]\n",
    "    all_overlapping = {}\n",
    "    for nearest in knn:\n",
    "        found_ingredients_indices = find(X[nearest])[1]\n",
    "        for index in found_ingredients_indices:\n",
    "            ingredient = vectorizer.get_feature_names()[index]\n",
    "            if ingredient in my_ingredients_list:\n",
    "                all_overlapping[ingredient] = all_overlapping.get(ingredient, 0) + 1\n",
    "    occurrences = sorted(all_overlapping.values(), reverse=True)\n",
    "    print(occurrences)\n",
    "    for i, occurrence in enumerate(occurrences):\n",
    "        num_occurrences[i] += occurrence\n",
    "#     print(j + 1)\n",
    "    \n",
    "import matplotlib.pyplot as plt\n",
    "\n",
    "plt.bar(list(range(subset_length)), num_occurrences/n_subsets)\n",
    "plt.ylabel('Occurrences')\n",
    "plt.show()"
   ]
  }
 ],
 "metadata": {
  "kernelspec": {
   "display_name": "Python 3",
   "language": "python",
   "name": "python3"
  },
  "language_info": {
   "codemirror_mode": {
    "name": "ipython",
    "version": 3
   },
   "file_extension": ".py",
   "mimetype": "text/x-python",
   "name": "python",
   "nbconvert_exporter": "python",
   "pygments_lexer": "ipython3",
   "version": "3.8.7"
  }
 },
 "nbformat": 4,
 "nbformat_minor": 5
}
