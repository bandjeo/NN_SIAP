{
 "cells": [
  {
   "cell_type": "code",
   "execution_count": 1,
   "id": "historic-washer",
   "metadata": {},
   "outputs": [],
   "source": [
    "import json\n",
    "with open(\"../recipe1M_layers/layer3.json\", \"r\") as f:\n",
    "    dataset = json.load(f)\n"
   ]
  },
  {
   "cell_type": "code",
   "execution_count": 2,
   "id": "environmental-delaware",
   "metadata": {},
   "outputs": [],
   "source": [
    "j_f = []\n",
    "for rec in dataset:\n",
    "    vi = []\n",
    "    for i in range(len(rec[\"ingredients\"])):\n",
    "        if rec[\"valid\"][i]:\n",
    "            if rec[\"ingredients\"][i][\"text\"] not in vi:\n",
    "                vi.append(rec[\"ingredients\"][i][\"text\"])\n",
    "    xx = {\"id\": rec[\"id\"], \"ingredients\": vi}\n",
    "    j_f.append(xx)"
   ]
  },
  {
   "cell_type": "code",
   "execution_count": 3,
   "id": "abandoned-folder",
   "metadata": {},
   "outputs": [],
   "source": [
    "ingredients_per_recipe = [x['ingredients'] for x in j_f]"
   ]
  },
  {
   "cell_type": "code",
   "execution_count": 4,
   "id": "celtic-naples",
   "metadata": {},
   "outputs": [],
   "source": [
    "ingredients_per_recipe = [' '.join([''.join(ingredient.split()) for ingredient in recipe]) for recipe in ingredients_per_recipe]"
   ]
  },
  {
   "cell_type": "code",
   "execution_count": 5,
   "id": "impressive-drink",
   "metadata": {},
   "outputs": [
    {
     "data": {
      "text/plain": [
       "'penne cheesesauce cheddarcheese gruyerecheese driedchipotlepowder unsaltedbutter all-purposeflour milk koshersalt garlicpowder'"
      ]
     },
     "execution_count": 5,
     "metadata": {},
     "output_type": "execute_result"
    }
   ],
   "source": [
    "ingredients_per_recipe[0]"
   ]
  },
  {
   "cell_type": "code",
   "execution_count": 7,
   "id": "black-navigator",
   "metadata": {},
   "outputs": [],
   "source": [
    "from sklearn.feature_extraction.text import CountVectorizer\n",
    "vectorizer = CountVectorizer()"
   ]
  },
  {
   "cell_type": "code",
   "execution_count": 8,
   "id": "after-class",
   "metadata": {},
   "outputs": [],
   "source": [
    "corpus = ingredients_per_recipe\n",
    "X = vectorizer.fit_transform(corpus)"
   ]
  },
  {
   "cell_type": "code",
   "execution_count": 11,
   "id": "intended-railway",
   "metadata": {},
   "outputs": [
    {
     "data": {
      "text/plain": [
       "scipy.sparse.csr.csr_matrix"
      ]
     },
     "execution_count": 11,
     "metadata": {},
     "output_type": "execute_result"
    }
   ],
   "source": [
    "type(X)"
   ]
  },
  {
   "cell_type": "code",
   "execution_count": 9,
   "id": "furnished-meaning",
   "metadata": {},
   "outputs": [],
   "source": [
    "corpus_len = len(corpus)"
   ]
  },
  {
   "cell_type": "code",
   "execution_count": 12,
   "id": "opened-planning",
   "metadata": {},
   "outputs": [],
   "source": [
    "from scipy.sparse import find"
   ]
  },
  {
   "cell_type": "code",
   "execution_count": 14,
   "id": "bulgarian-astrology",
   "metadata": {},
   "outputs": [
    {
     "name": "stdout",
     "output_type": "stream",
     "text": [
      "{'oregano', 'flour', 'sugar', 'water', 'salt', 'cocoapowder', 'mozzarellacheese', 'pepperoni', 'oliveoil', 'eggs'}\n",
      "Number of starting ingredients: 14\n",
      "Number of chosen ingredients: 10\n"
     ]
    }
   ],
   "source": [
    "import numpy as np\n",
    "n = 20\n",
    "my_ingredients_string = \"pepperoni mozzarellacheese flour eggs water salt oliveoil fish chips chickenliver cocoapowder sugar oregano pistachio\"\n",
    "my_ingredients_list = set(my_ingredients_string.split(\" \"))\n",
    "my_vector = vectorizer.transform([my_ingredients_string])[0]\n",
    "scalar_products = X.multiply(my_vector).sum(1)\n",
    "knn = np.squeeze(np.asarray(scalar_products.reshape((corpus_len)))).argsort()[-n:]\n",
    "all_overlapping = {}\n",
    "for nearest in knn:\n",
    "    found_ingredients_indices = find(X[nearest])[1]\n",
    "    for index in found_ingredients_indices:\n",
    "        ingredient = vectorizer.get_feature_names()[index]\n",
    "        all_overlapping[ingredient] = all_overlapping.get(ingredient, 0) + 1\n",
    "index_most_occurrences = np.array(list(all_overlapping.values())).argsort()[-len(my_ingredients_list)*2:]\n",
    "elements_most_occurrences = np.array(list(all_overlapping.keys()))[index_most_occurrences]\n",
    "# print(elements_most_occurrences)\n",
    "all_knn_ingredients = set(elements_most_occurrences)\n",
    "best_ingredients = my_ingredients_list.intersection(all_knn_ingredients)\n",
    "print(best_ingredients)\n",
    "print(f'Number of starting ingredients: {len(my_ingredients_list)}')\n",
    "print(f'Number of chosen ingredients: {len(best_ingredients)}')"
   ]
  }
 ],
 "metadata": {
  "kernelspec": {
   "display_name": "Python 3",
   "language": "python",
   "name": "python3"
  },
  "language_info": {
   "codemirror_mode": {
    "name": "ipython",
    "version": 3
   },
   "file_extension": ".py",
   "mimetype": "text/x-python",
   "name": "python",
   "nbconvert_exporter": "python",
   "pygments_lexer": "ipython3",
   "version": "3.8.5"
  }
 },
 "nbformat": 4,
 "nbformat_minor": 5
}
