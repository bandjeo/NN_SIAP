{
 "cells": [
  {
   "cell_type": "code",
   "execution_count": 1,
   "id": "forty-zoning",
   "metadata": {},
   "outputs": [],
   "source": [
    "import json\n",
    "import random"
   ]
  },
  {
   "cell_type": "code",
   "execution_count": 2,
   "id": "variable-softball",
   "metadata": {},
   "outputs": [],
   "source": [
    "\n",
    "with open('../dataset/layers/layer3.json') as dataset_file:\n",
    "    dataset = json.load(dataset_file)"
   ]
  },
  {
   "cell_type": "code",
   "execution_count": 3,
   "id": "interpreted-pressure",
   "metadata": {},
   "outputs": [
    {
     "name": "stdout",
     "output_type": "stream",
     "text": [
      "{'valid': [True, True, True, True, True, True, True, True, False, False, True, True, True, False], 'id': '000018c8a5', 'ingredients': [{'text': 'penne'}, {'text': 'cheese sauce'}, {'text': 'cheddar cheese'}, {'text': 'gruyere cheese'}, {'text': 'dried chipotle powder'}, {'text': 'unsalted butter'}, {'text': 'all - purpose flour'}, {'text': 'milk'}, {'text': '14 ounces semihard cheese (page 23), grated (about 3 1/2 cups)'}, {'text': '2 ounces semisoft cheese (page 23), grated (1/2 cup)'}, {'text': 'kosher salt'}, {'text': 'dried chipotle powder'}, {'text': 'garlic powder'}, {'text': '(makes about 4 cups)'}]}\n"
     ]
    }
   ],
   "source": [
    "print(dataset[0])"
   ]
  },
  {
   "cell_type": "code",
   "execution_count": 3,
   "id": "compliant-address",
   "metadata": {},
   "outputs": [],
   "source": [
    "def get_random_shuffles(list_to_shuffle, var_num=10):\n",
    "    ret_list = []\n",
    "    for i in range(var_num):\n",
    "        random.shuffle(list_to_shuffle)\n",
    "        ret_list.append(list_to_shuffle[:])\n",
    "    return ret_list"
   ]
  },
  {
   "cell_type": "code",
   "execution_count": 28,
   "id": "imposed-instrumentation",
   "metadata": {},
   "outputs": [
    {
     "data": {
      "text/plain": [
       "[[{'text': 'penne'},\n",
       "  {'text': 'kosher salt'},\n",
       "  {'text': '2 ounces semisoft cheese (page 23), grated (1/2 cup)'},\n",
       "  {'text': 'unsalted butter'},\n",
       "  {'text': 'gruyere cheese'},\n",
       "  {'text': 'milk'},\n",
       "  {'text': 'dried chipotle powder'},\n",
       "  {'text': 'dried chipotle powder'},\n",
       "  {'text': '14 ounces semihard cheese (page 23), grated (about 3 1/2 cups)'},\n",
       "  {'text': 'cheddar cheese'},\n",
       "  {'text': 'cheese sauce'},\n",
       "  {'text': '(makes about 4 cups)'},\n",
       "  {'text': 'all - purpose flour'},\n",
       "  {'text': 'garlic powder'}],\n",
       " [{'text': 'dried chipotle powder'},\n",
       "  {'text': 'kosher salt'},\n",
       "  {'text': '14 ounces semihard cheese (page 23), grated (about 3 1/2 cups)'},\n",
       "  {'text': 'dried chipotle powder'},\n",
       "  {'text': 'all - purpose flour'},\n",
       "  {'text': 'gruyere cheese'},\n",
       "  {'text': 'unsalted butter'},\n",
       "  {'text': 'garlic powder'},\n",
       "  {'text': 'milk'},\n",
       "  {'text': 'cheese sauce'},\n",
       "  {'text': '2 ounces semisoft cheese (page 23), grated (1/2 cup)'},\n",
       "  {'text': '(makes about 4 cups)'},\n",
       "  {'text': 'cheddar cheese'},\n",
       "  {'text': 'penne'}],\n",
       " [{'text': 'kosher salt'},\n",
       "  {'text': 'dried chipotle powder'},\n",
       "  {'text': '(makes about 4 cups)'},\n",
       "  {'text': 'dried chipotle powder'},\n",
       "  {'text': 'garlic powder'},\n",
       "  {'text': '2 ounces semisoft cheese (page 23), grated (1/2 cup)'},\n",
       "  {'text': 'gruyere cheese'},\n",
       "  {'text': 'milk'},\n",
       "  {'text': '14 ounces semihard cheese (page 23), grated (about 3 1/2 cups)'},\n",
       "  {'text': 'cheese sauce'},\n",
       "  {'text': 'unsalted butter'},\n",
       "  {'text': 'penne'},\n",
       "  {'text': 'all - purpose flour'},\n",
       "  {'text': 'cheddar cheese'}],\n",
       " [{'text': '2 ounces semisoft cheese (page 23), grated (1/2 cup)'},\n",
       "  {'text': 'gruyere cheese'},\n",
       "  {'text': 'all - purpose flour'},\n",
       "  {'text': 'dried chipotle powder'},\n",
       "  {'text': 'dried chipotle powder'},\n",
       "  {'text': 'cheese sauce'},\n",
       "  {'text': '(makes about 4 cups)'},\n",
       "  {'text': '14 ounces semihard cheese (page 23), grated (about 3 1/2 cups)'},\n",
       "  {'text': 'unsalted butter'},\n",
       "  {'text': 'cheddar cheese'},\n",
       "  {'text': 'garlic powder'},\n",
       "  {'text': 'penne'},\n",
       "  {'text': 'kosher salt'},\n",
       "  {'text': 'milk'}],\n",
       " [{'text': 'cheddar cheese'},\n",
       "  {'text': 'cheese sauce'},\n",
       "  {'text': 'milk'},\n",
       "  {'text': '2 ounces semisoft cheese (page 23), grated (1/2 cup)'},\n",
       "  {'text': 'dried chipotle powder'},\n",
       "  {'text': 'all - purpose flour'},\n",
       "  {'text': 'unsalted butter'},\n",
       "  {'text': 'gruyere cheese'},\n",
       "  {'text': 'dried chipotle powder'},\n",
       "  {'text': '14 ounces semihard cheese (page 23), grated (about 3 1/2 cups)'},\n",
       "  {'text': 'penne'},\n",
       "  {'text': 'garlic powder'},\n",
       "  {'text': 'kosher salt'},\n",
       "  {'text': '(makes about 4 cups)'}],\n",
       " [{'text': 'gruyere cheese'},\n",
       "  {'text': 'dried chipotle powder'},\n",
       "  {'text': 'all - purpose flour'},\n",
       "  {'text': '(makes about 4 cups)'},\n",
       "  {'text': '2 ounces semisoft cheese (page 23), grated (1/2 cup)'},\n",
       "  {'text': '14 ounces semihard cheese (page 23), grated (about 3 1/2 cups)'},\n",
       "  {'text': 'kosher salt'},\n",
       "  {'text': 'penne'},\n",
       "  {'text': 'dried chipotle powder'},\n",
       "  {'text': 'unsalted butter'},\n",
       "  {'text': 'cheddar cheese'},\n",
       "  {'text': 'garlic powder'},\n",
       "  {'text': 'cheese sauce'},\n",
       "  {'text': 'milk'}],\n",
       " [{'text': '(makes about 4 cups)'},\n",
       "  {'text': 'kosher salt'},\n",
       "  {'text': 'milk'},\n",
       "  {'text': 'garlic powder'},\n",
       "  {'text': 'cheese sauce'},\n",
       "  {'text': 'all - purpose flour'},\n",
       "  {'text': 'dried chipotle powder'},\n",
       "  {'text': 'dried chipotle powder'},\n",
       "  {'text': 'penne'},\n",
       "  {'text': 'gruyere cheese'},\n",
       "  {'text': 'unsalted butter'},\n",
       "  {'text': 'cheddar cheese'},\n",
       "  {'text': '14 ounces semihard cheese (page 23), grated (about 3 1/2 cups)'},\n",
       "  {'text': '2 ounces semisoft cheese (page 23), grated (1/2 cup)'}],\n",
       " [{'text': 'cheddar cheese'},\n",
       "  {'text': '(makes about 4 cups)'},\n",
       "  {'text': 'cheese sauce'},\n",
       "  {'text': 'milk'},\n",
       "  {'text': 'gruyere cheese'},\n",
       "  {'text': 'dried chipotle powder'},\n",
       "  {'text': '2 ounces semisoft cheese (page 23), grated (1/2 cup)'},\n",
       "  {'text': 'garlic powder'},\n",
       "  {'text': 'kosher salt'},\n",
       "  {'text': 'unsalted butter'},\n",
       "  {'text': 'dried chipotle powder'},\n",
       "  {'text': 'penne'},\n",
       "  {'text': '14 ounces semihard cheese (page 23), grated (about 3 1/2 cups)'},\n",
       "  {'text': 'all - purpose flour'}],\n",
       " [{'text': 'all - purpose flour'},\n",
       "  {'text': 'kosher salt'},\n",
       "  {'text': '2 ounces semisoft cheese (page 23), grated (1/2 cup)'},\n",
       "  {'text': 'dried chipotle powder'},\n",
       "  {'text': 'cheddar cheese'},\n",
       "  {'text': 'unsalted butter'},\n",
       "  {'text': '(makes about 4 cups)'},\n",
       "  {'text': 'gruyere cheese'},\n",
       "  {'text': '14 ounces semihard cheese (page 23), grated (about 3 1/2 cups)'},\n",
       "  {'text': 'penne'},\n",
       "  {'text': 'dried chipotle powder'},\n",
       "  {'text': 'garlic powder'},\n",
       "  {'text': 'milk'},\n",
       "  {'text': 'cheese sauce'}],\n",
       " [{'text': 'unsalted butter'},\n",
       "  {'text': 'kosher salt'},\n",
       "  {'text': 'penne'},\n",
       "  {'text': 'dried chipotle powder'},\n",
       "  {'text': 'cheese sauce'},\n",
       "  {'text': 'dried chipotle powder'},\n",
       "  {'text': 'garlic powder'},\n",
       "  {'text': '(makes about 4 cups)'},\n",
       "  {'text': 'all - purpose flour'},\n",
       "  {'text': 'cheddar cheese'},\n",
       "  {'text': '14 ounces semihard cheese (page 23), grated (about 3 1/2 cups)'},\n",
       "  {'text': 'milk'},\n",
       "  {'text': 'gruyere cheese'},\n",
       "  {'text': '2 ounces semisoft cheese (page 23), grated (1/2 cup)'}]]"
      ]
     },
     "execution_count": 28,
     "metadata": {},
     "output_type": "execute_result"
    }
   ],
   "source": [
    "get_random_shuffles(dataset[0]['ingredients'])"
   ]
  },
  {
   "cell_type": "code",
   "execution_count": 4,
   "id": "medical-classic",
   "metadata": {},
   "outputs": [],
   "source": [
    "ingredient_list = []\n",
    "for recipe in dataset:\n",
    "    valid_ingredients = []\n",
    "    for i in range(len(recipe[\"ingredients\"])):\n",
    "        if recipe[\"valid\"][i]:\n",
    "            valid_ingredients.append(recipe[\"ingredients\"][i][\"text\"])\n",
    "    for ing_list in get_random_shuffles([\"\".join(ing.split()) for ing in valid_ingredients]):\n",
    "        ingredient_list.append(ing_list)"
   ]
  },
  {
   "cell_type": "code",
   "execution_count": 31,
   "id": "collaborative-engineer",
   "metadata": {},
   "outputs": [
    {
     "name": "stdout",
     "output_type": "stream",
     "text": [
      "['watermelon', 'lime-flavoredseltzerwater', 'lemons', 'Splendasugarsubstitute']\n",
      "['koshersalt', 'parmesancheese', 'chickenbreasthalves', 'mozzarellacheese', 'lightoliveoil', 'driedbasil', 'freshgarliccloves', 'butter', 'eggs', 'blackpepper', 'tomatosauce', 'spaghettinoodles']\n",
      "['basil', 'oliveoil', 'shallots', 'grapetomatoes', 'butter', 'dryvermouth', 'pinenuts', 'heavycream', 'saltandpepper', 'shrimp', 'chives', 'garlic', 'pasta']\n",
      "['lemon', 'chickentenderloins', 'honey', 'chilipaste', 'ginger', 'peanutbutter', 'rice']\n"
     ]
    }
   ],
   "source": [
    "print(ingredient_list[1000])\n",
    "print(ingredient_list[100000])\n",
    "print(ingredient_list[5000000])\n",
    "print(ingredient_list[5000])\n"
   ]
  },
  {
   "cell_type": "code",
   "execution_count": null,
   "id": "behind-plenty",
   "metadata": {},
   "outputs": [],
   "source": [
    "ingrediento_list = [[\"\".join(ing.split()) for ing in recipe] for recipe in ingredient_list]\n",
    "print(ingrediento_list[0])"
   ]
  },
  {
   "cell_type": "code",
   "execution_count": 7,
   "id": "handy-competition",
   "metadata": {},
   "outputs": [],
   "source": [
    "from gensim.models import Word2Vec\n",
    "ingredients_per_recipe = ingredient_list\n",
    "model = Word2Vec(sentences=ingredients_per_recipe, size=100, window=3, min_count=1, workers=4)"
   ]
  },
  {
   "cell_type": "code",
   "execution_count": 9,
   "id": "compressed-theater",
   "metadata": {},
   "outputs": [
    {
     "name": "stdout",
     "output_type": "stream",
     "text": [
      "[('potatoes', 0.8750154376029968), ('turnip', 0.6734368801116943), ('whitepotato', 0.652134120464325), ('bakingpotato', 0.6355170011520386), ('whitepotatoes', 0.6341703534126282), ('dumplings', 0.6308233737945557), ('leek', 0.6186506748199463), ('parsnip', 0.613868236541748), ('greenpeas', 0.6040278077125549), ('boiledpotatoes', 0.6038579940795898), ('newpotato', 0.6027263402938843), ('rawpotatoes', 0.5932386517524719), ('redpotatoes', 0.5928860902786255), ('russetpotato', 0.5923498868942261), ('parsleyroot', 0.590911865234375), ('peas', 0.5905178785324097), ('bouillon', 0.5897656083106995), ('newpotatoes', 0.5879443883895874), ('bouilloncube', 0.5847479701042175), ('soupbones', 0.5759333372116089), ('potbarley', 0.5753577947616577), ('boilingpotatoes', 0.5687046051025391), ('stock', 0.5679877996444702), ('bayleaf', 0.5637009143829346), ('splitpeas', 0.5618088245391846), ('smallpotatoes', 0.5526571273803711), ('yellowsplitpeas', 0.5435934066772461), ('swede', 0.5433222651481628), ('celeriac', 0.5427746772766113), ('russetpotatoes', 0.5410674810409546), ('marrow', 0.5403154492378235), ('savory', 0.5386561155319214), ('boilingpotato', 0.5380045175552368), ('driedsplitgreenpeas', 0.5339709520339966), ('bakingpotatoes', 0.5337094068527222), ('barley', 0.5309690833091736), ('soup', 0.5308582782745361), ('stockcubes', 0.5307568907737732), ('turnips', 0.5306723117828369)]\n"
     ]
    }
   ],
   "source": [
    "print(model.wv.most_similar('potato', topn=39))"
   ]
  },
  {
   "cell_type": "code",
   "execution_count": 15,
   "id": "atomic-reminder",
   "metadata": {},
   "outputs": [],
   "source": [
    "def preproccessInput(input_list):\n",
    "    return np.array([model.wv[ingredient] for ingredient in input_list if ingredient in model.wv])"
   ]
  },
  {
   "cell_type": "code",
   "execution_count": 53,
   "id": "fifth-milan",
   "metadata": {},
   "outputs": [
    {
     "name": "stdout",
     "output_type": "stream",
     "text": [
      "[[-0.38499498 -1.8484725   2.6677527  ...  0.5489801   1.0371182\n",
      "  -0.7211133 ]\n",
      " [ 0.91731656 -2.684859   -2.4430315  ...  1.1643376   3.8318698\n",
      "   1.4345796 ]\n",
      " [ 0.82919055  1.2131025  -0.1322242  ...  1.4750762  -0.68309015\n",
      "   0.91064537]\n",
      " ...\n",
      " [ 0.42043632  4.2418146  -0.5935915  ...  0.30235374 -1.4295762\n",
      "   1.3909224 ]\n",
      " [-0.9161018   5.536127    0.5321874  ...  0.78135705 -1.0149964\n",
      "   0.32387793]\n",
      " [ 1.5634267   2.1446295  -1.5967982  ...  1.6185579  -2.078447\n",
      "   2.498427  ]]\n"
     ]
    }
   ],
   "source": [
    "from sklearn.cluster import DBSCAN\n",
    "import numpy as np\n",
    "\n",
    "input_ingredients = ingredient_list[100000] + ingredient_list[5000]\n",
    "\n",
    "preproc_input = preproccessInput(input_ingredients)\n",
    "print(preproc_input)"
   ]
  },
  {
   "cell_type": "code",
   "execution_count": 56,
   "id": "enhanced-folder",
   "metadata": {},
   "outputs": [
    {
     "data": {
      "text/plain": [
       "array([-1,  0, -1,  0, -1,  0, -1, -1, -1, -1,  0,  0, -1, -1, -1,  0,  0,\n",
       "        0,  0], dtype=int64)"
      ]
     },
     "execution_count": 56,
     "metadata": {},
     "output_type": "execute_result"
    }
   ],
   "source": [
    "clustering = DBSCAN(eps=0.65, min_samples=3, metric='cosine').fit(preproc_input)\n",
    "clustering.labels_"
   ]
  },
  {
   "cell_type": "code",
   "execution_count": 57,
   "id": "close-edinburgh",
   "metadata": {},
   "outputs": [],
   "source": [
    "def clusters_to_recipe(labels, input_list):\n",
    "    clusters = {}\n",
    "    for i in range(len(labels)):\n",
    "        if labels[i] not in clusters.keys():\n",
    "            clusters[labels[i]] = []\n",
    "        clusters[labels[i]].append(input_list[i])\n",
    "    return clusters"
   ]
  },
  {
   "cell_type": "code",
   "execution_count": 58,
   "id": "better-finance",
   "metadata": {
    "scrolled": true
   },
   "outputs": [
    {
     "name": "stdout",
     "output_type": "stream",
     "text": [
      "{-1: ['koshersalt', 'chickenbreasthalves', 'lightoliveoil', 'freshgarliccloves', 'butter', 'eggs', 'blackpepper', 'lemon', 'chickentenderloins', 'honey'], 0: ['parmesancheese', 'mozzarellacheese', 'driedbasil', 'tomatosauce', 'spaghettinoodles', 'chilipaste', 'ginger', 'peanutbutter', 'rice']}\n"
     ]
    }
   ],
   "source": [
    "print(clusters_to_recipe(clustering.labels_, input_ingredients))"
   ]
  }
 ],
 "metadata": {
  "kernelspec": {
   "display_name": "Python 3",
   "language": "python",
   "name": "python3"
  },
  "language_info": {
   "codemirror_mode": {
    "name": "ipython",
    "version": 3
   },
   "file_extension": ".py",
   "mimetype": "text/x-python",
   "name": "python",
   "nbconvert_exporter": "python",
   "pygments_lexer": "ipython3",
   "version": "3.9.2"
  }
 },
 "nbformat": 4,
 "nbformat_minor": 5
}
